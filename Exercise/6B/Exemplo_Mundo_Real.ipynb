{
 "cells": [
  {
   "cell_type": "markdown",
   "metadata": {},
   "source": [
    "<div class=\"alert alert-block alert-info\">\n",
    "    \n",
    "<h1 style=\"color:Blue;\"> <center> <ins> <b> \n",
    "Métodos Numéricos \n",
    "</b> </ins> </center> </h1>\n",
    "    \n",
    "<h3 style=\"color:Blue;\"> <center> <b> \n",
    "Exemplo de \"Mundo Real\" de Aplicação dos Métodos Estudados\n",
    "</b></center> </h3>\n",
    "    \n",
    "</div>"
   ]
  },
  {
   "cell_type": "code",
   "execution_count": null,
   "metadata": {},
   "outputs": [],
   "source": [
    "import numpy as np\n",
    "import scipy.optimize as opt\n",
    "import matplotlib.pyplot as plt"
   ]
  },
  {
   "cell_type": "markdown",
   "metadata": {},
   "source": [
    "<div class=\"alert alert-block alert-info\" style=\"color:Blue;\">\n",
    "Definindo nosso problema\n",
    "</div>"
   ]
  },
  {
   "cell_type": "markdown",
   "metadata": {},
   "source": [
    "O crescimento de uma população pode ser modelado por curtos períodos de tempo, supondo que a população cresce continuamente e a uma taxa proporcional ao número de indivíduos presentes naquele instante.\n",
    "\n",
    "Se supusermos que $N(t)$ denota o número de indivíduos no instante $t$, e $\\lambda$, a taxa de natalidade constante da população, então essa população satisfaz a equação diferencial\n",
    "\n",
    "$$\n",
    "\\dfrac{dN(t)}{dt} = \\lambda N(t)\n",
    "$$\n",
    "\n",
    "Essa equação pode facilmente ser resolvida por meios analíticos, tendo como solução\n",
    "\n",
    "$$\n",
    "N(t) = N_0e^{\\lambda t}\n",
    "$$\n",
    "\n",
    "em que $N_0$ denota a população no início da contagem de tempo.\n",
    "\n",
    "__A partir dessa equação, fica fácil, por exemplo, se medirmos a população final, a inicial, saber a taxa de natalidade num dado período de tempo, bastando apenas alguma manipulação analítica \"básica\"!__\n",
    "\n",
    "\\begin{align}\n",
    "N(t) &= N_0e^{\\lambda t} \\\\[3mm]\n",
    "\\dfrac{N(t)}{N_0} &= e^{\\lambda t} \\\\[3mm]\n",
    "\\ln\\left(\\dfrac{N(t)}{N_0}\\right) &= \\lambda t\\\\[10mm]\n",
    "\\lambda &= \\dfrac{1}{t}\\ln\\left(\\dfrac{N(t)}{N_0}\\right)\n",
    "\\end{align}\n",
    "\n",
    "\n",
    "Como nós temos o período de tempo, tempos as populações inicial e final, conseguimos encontrar diretamente a taxa de natalidade! Jóia!\n",
    "\n",
    "__Tá, mas qual o problema aqui?__\n",
    "\n",
    "O problema é que esse modelo é válido apenas quando a população é isolada, sem imigração. Se a imigração é possível, e tiver uma taxa constante $v$, a equação diferencial se torna\n",
    "\n",
    "$$\n",
    "\\dfrac{dN(t)}{dt} = \\lambda N(t) + v\n",
    "$$\n",
    "\n",
    "cuja solução é\n",
    "\n",
    "$$\n",
    "N(t) = N_0e^{\\lambda t} + \\dfrac{v}{\\lambda}(e^{\\lambda t}-1)\n",
    "$$\n",
    "\n",
    "E agora não rola resolver analiticamente isolando $\\lambda$...\n",
    "\n",
    "__Nessa horas que entram os métodos numéricos!__"
   ]
  },
  {
   "cell_type": "markdown",
   "metadata": {},
   "source": [
    "<div class=\"alert alert-block alert-info\" style=\"color:Blue;\">\n",
    "O exemplo\n",
    "</div>"
   ]
  },
  {
   "cell_type": "markdown",
   "metadata": {},
   "source": [
    "Vamos pensar numa situação com dados. Suponha que uma população tenha inicialmente 1 milhão de indivíduos, que 435 mil imigrem para a comunidade analisada no primeiro ano, e que a população, após esse ano, seja de 1564000 indivíduos. Para determinar a taxa de natalidade dessa população, podemos usar o modelo acima, tendo\n",
    "\n",
    "$$\n",
    "1564000 = 1000000e^\\lambda + \\dfrac{435000}{\\lambda}(e^\\lambda - 1)\n",
    "$$\n",
    "\n",
    "Como já sabemos que esse $\\lambda$ não sai daí analiticamente, só precisaríamos escrever essa equação acima na forma $f(\\lambda) = 0$, ou seja,\n",
    "\n",
    "$$\n",
    "f(\\lambda) =  1000000e^\\lambda + \\dfrac{435000}{\\lambda}(e^\\lambda - 1) - 1564000 = 0\n",
    "$$\n",
    "\n",
    "Botando código nas coisas, teríamos"
   ]
  },
  {
   "cell_type": "code",
   "execution_count": null,
   "metadata": {},
   "outputs": [],
   "source": [
    "f = lambda x: 1e+6*np.exp(x) + (4.35e+5/x)*(np.exp(x) - 1) - 1.564e+6"
   ]
  },
  {
   "cell_type": "code",
   "execution_count": null,
   "metadata": {},
   "outputs": [],
   "source": [
    "x = np.linspace(-3,3,200)\n",
    "plt.plot(x,f(x))\n",
    "plt.grid()"
   ]
  },
  {
   "cell_type": "markdown",
   "metadata": {},
   "source": [
    "<div class=\"alert alert-block alert-info\" style=\"color:Blue;\">\n",
    "Resolvendo com o método da Bisseção\n",
    "</div>"
   ]
  },
  {
   "cell_type": "markdown",
   "metadata": {},
   "source": [
    "Usando Bisseção, com uma precisão de $10^{-10}$, com intervalo inicial de $[-1,1]$ teríamos"
   ]
  },
  {
   "cell_type": "code",
   "execution_count": 1,
   "metadata": {},
   "outputs": [
    {
     "ename": "NameError",
     "evalue": "name 'opt' is not defined",
     "output_type": "error",
     "traceback": [
      "\u001b[0;31m---------------------------------------------------------------------------\u001b[0m",
      "\u001b[0;31mNameError\u001b[0m                                 Traceback (most recent call last)",
      "\u001b[0;32m<ipython-input-1-82f76fdc0515>\u001b[0m in \u001b[0;36m<module>\u001b[0;34m\u001b[0m\n\u001b[0;32m----> 1\u001b[0;31m \u001b[0mopt\u001b[0m\u001b[0;34m.\u001b[0m\u001b[0mroot_scalar\u001b[0m\u001b[0;34m(\u001b[0m\u001b[0mf\u001b[0m\u001b[0;34m,\u001b[0m\u001b[0mmethod\u001b[0m\u001b[0;34m=\u001b[0m \u001b[0;34m'bisect'\u001b[0m\u001b[0;34m,\u001b[0m\u001b[0mbracket\u001b[0m\u001b[0;34m=\u001b[0m\u001b[0;34m[\u001b[0m\u001b[0;34m-\u001b[0m\u001b[0;36m1\u001b[0m\u001b[0;34m,\u001b[0m\u001b[0;36m1\u001b[0m\u001b[0;34m]\u001b[0m\u001b[0;34m,\u001b[0m \u001b[0mrtol\u001b[0m\u001b[0;34m=\u001b[0m\u001b[0;36m1e-10\u001b[0m\u001b[0;34m)\u001b[0m\u001b[0;34m.\u001b[0m\u001b[0mroot\u001b[0m\u001b[0;34m\u001b[0m\u001b[0;34m\u001b[0m\u001b[0m\n\u001b[0m",
      "\u001b[0;31mNameError\u001b[0m: name 'opt' is not defined"
     ]
    }
   ],
   "source": [
    "opt.root_scalar(f,method= 'bisect',bracket=[-1,1], rtol=1e-10).root"
   ]
  },
  {
   "cell_type": "code",
   "execution_count": null,
   "metadata": {},
   "outputs": [],
   "source": []
  },
  {
   "cell_type": "markdown",
   "metadata": {},
   "source": [
    "De fato, temos um problema de divisão por zero... nossa saída aqui seria a de tirar esse zero do numerador... e podemos, de fato mexer nessa equação analiticamente. Vejamos, se ajustarmos todos para um denominador comum, teremos "
   ]
  },
  {
   "cell_type": "markdown",
   "metadata": {},
   "source": [
    "\\begin{align}\n",
    "f(\\lambda) &=  1000000e^\\lambda + \\dfrac{435000}{\\lambda}(e^\\lambda - 1) - 1564000 = 0 \\\\[5mm]\n",
    "f(\\lambda)         &= \\dfrac{1000000\\lambda e^\\lambda + 435000(e^\\lambda - 1) - 1564000\\lambda}{\\lambda} = 0\\\\[5mm]\n",
    "f(\\lambda)           &= 1000000\\lambda e^\\lambda + 435000(e^\\lambda - 1) - 1564000\\lambda = 0\n",
    "\\end{align}\n",
    "\n",
    "Agora, matematicamente, eliminamos a necessidade do $\\lambda$ no denominador.\n",
    "\n",
    "Vamos reescrever a função e testar novamente o método da Bisseção."
   ]
  },
  {
   "cell_type": "code",
   "execution_count": null,
   "metadata": {},
   "outputs": [],
   "source": [
    "f_ = lambda x: 1e+6*x*np.exp(x) + 4.35e+5*(np.exp(x) - 1) - 1.564e+6*x \n",
    "\n",
    "x = np.linspace(-3,3,200)\n",
    "plt.plot(x,f_(x))\n",
    "plt.grid()"
   ]
  },
  {
   "cell_type": "code",
   "execution_count": null,
   "metadata": {},
   "outputs": [],
   "source": [
    "opt.root_scalar(f_,method= 'bisect',bracket=[-1,1], rtol=1e-10).root"
   ]
  },
  {
   "cell_type": "markdown",
   "metadata": {},
   "source": [
    "__E agora??__\n",
    "\n",
    "Temos de pensar em outros métodos ou buscar outras modificações.\n",
    "\n",
    "Uma bem simples que temos de pensar é: e porque não mudamos o intervalo?\n",
    "\n",
    "Por exemplo, $[-1,0.99]$ seria um intervalo válido?"
   ]
  },
  {
   "cell_type": "code",
   "execution_count": null,
   "metadata": {},
   "outputs": [],
   "source": [
    "opt.root_scalar(f,method= 'bisect',bracket=[-1,0.99], rtol=1e-10).root"
   ]
  },
  {
   "cell_type": "markdown",
   "metadata": {},
   "source": [
    "Nesse caso, vemos que o método converge! E porque? Basta lembrarmos de como o método da bisseção define a aproximação da raiz que está sendo calculada: pelo valor médio! No intervalo $[-1,1]$, o valor médio é 0, o que, de cara, leva a divisão por zero acusada no erro acima. Como agora esse valor médio difere de zero, o algoritmo pode convergir em paz, sem error!"
   ]
  }
 ],
 "metadata": {
  "kernelspec": {
   "display_name": "Python 3",
   "language": "python",
   "name": "python3"
  },
  "language_info": {
   "codemirror_mode": {
    "name": "ipython",
    "version": 3
   },
   "file_extension": ".py",
   "mimetype": "text/x-python",
   "name": "python",
   "nbconvert_exporter": "python",
   "pygments_lexer": "ipython3",
   "version": "3.8.5"
  }
 },
 "nbformat": 4,
 "nbformat_minor": 4
}
