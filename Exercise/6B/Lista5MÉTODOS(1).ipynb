{
  "cells": [
    {
      "cell_type": "code",
      "execution_count": 17,
      "metadata": {
        "id": "IL_zfrqVfCOZ"
      },
      "outputs": [],
      "source": [
        "import numpy as np\n",
        "import scipy.optimize as opt\n",
        "import matplotlib.pyplot as plt\n",
        "from sympy import *\n",
        "%matplotlib inline"
      ]
    },
    {
      "cell_type": "markdown",
      "metadata": {
        "id": "e7x1PM4gfCOf"
      },
      "source": [
        "# Questão 1"
      ]
    },
    {
      "cell_type": "code",
      "execution_count": 18,
      "metadata": {
        "id": "jm8-835tfCOn"
      },
      "outputs": [],
      "source": [
        "def newton(f, f_derivada, a, tol=1e-10, maxiter=200):\n",
        "    y =  a \n",
        "    cont = 0\n",
        "    erro = 100\n",
        "    \n",
        "    while (erro > tol and cont < maxiter):\n",
        "        f_y = f(y)\n",
        "        derivada_y = f_derivada(y)\n",
        "        \n",
        "        if derivada_y == 0:\n",
        "            return \n",
        "        \n",
        "        y2 = y - (f_y / derivada_y)  \n",
        "        erro = np.abs((y2 - y) / np.abs(y2))  \n",
        "        \n",
        "        if erro <= tol:\n",
        "            break \n",
        "        \n",
        "        y = y2\n",
        "        cont += 1\n",
        "\n",
        "    return \"Raiz: \" + str(y2)\n",
        "\n",
        "def pontof(f, a, maxiter, xtol=1e-10):\n",
        "    cont = 0\n",
        "    \n",
        "    while (cont < maxiter):\n",
        "        y = f(a)\n",
        "        erro = np.abs(a - y)\n",
        "        \n",
        "        if erro <= xtol:\n",
        "            a, y, cont\n",
        "        \n",
        "        a = y\n",
        "        cont += 1\n",
        "    return a, y, cont\n",
        "\n",
        "def sec(f, a, b, tol = 1e-10, maxiter = 200):\n",
        "    if f(a) * f(b) >= 0:\n",
        "        return\n",
        "    \n",
        "    erro = 1000;\n",
        "    cont = 0\n",
        "    \n",
        "    while (erro > tol and cont < maxiter):\n",
        "        f_a = f(a)\n",
        "        f_b = f(b)\n",
        "        y = (a * f_b - b * f_a) / (f_b - f_a)\n",
        "        x = f_a * f(y)\n",
        "        \n",
        "        if (x == 0):\n",
        "            return y, cont\n",
        "        else:\n",
        "            a = b\n",
        "            b = y\n",
        "            y2 = y\n",
        "            erro = np.abs(y2 - y)\n",
        "            \n",
        "        if (erro <= tol):\n",
        "            break  \n",
        "        cont += 1\n",
        "\n",
        "    return \"Raiz: \" + str(y2)\n",
        "\n",
        "def falsa(f, a, b, tol, maxiter):\n",
        "    \n",
        "    x2 = a - (f(a)*(b-a)/(f(b)-f(a)))\n",
        "    cont = 0\n",
        "    erro = 1 \n",
        "    \n",
        "    while (erro > tol and cont < maxiter):\n",
        "        \n",
        "        x = a - (f(a)*(b-a)/(f(b)-f(a)))\n",
        "        \n",
        "        if (np.sign(f(a)) * np.sign(f(x2)) > 0) : a = x\n",
        "\n",
        "        else: b = x\n",
        "            \n",
        "        if( cont != 0):\n",
        "            erro  = np.abs(x - x2)/x \n",
        "        \n",
        "        cont += 1      \n",
        "        x2 = x\n",
        "         \n",
        "    return \"Iteração: \" + str(cont), \"Raiz: \" + str(x2)"
      ]
    },
    {
      "cell_type": "markdown",
      "metadata": {
        "id": "nvEqZSlofCOs"
      },
      "source": [
        "# Questão 2"
      ]
    },
    {
      "cell_type": "code",
      "execution_count": 19,
      "metadata": {
        "colab": {
          "base_uri": "https://localhost:8080/"
        },
        "id": "9FDo3-kUfCOu",
        "outputId": "f57f9d92-1c3b-4644-8bbb-f8e845e8cbd2"
      },
      "outputs": [
        {
          "output_type": "execute_result",
          "data": {
            "text/plain": [
              "(0.7686488567609493, 0.7686488567609493, 200)"
            ]
          },
          "metadata": {},
          "execution_count": 19
        }
      ],
      "source": [
        "def function(x): \n",
        "  return (2 * np.sin(np.sqrt(x)) - x)\n",
        "\n",
        "pontof(function, a = 0.5, maxiter = 200, xtol = 0.001)"
      ]
    },
    {
      "cell_type": "markdown",
      "metadata": {
        "id": "NK-ckMl3fCOw"
      },
      "source": [
        "# Questão 3"
      ]
    },
    {
      "cell_type": "code",
      "execution_count": 20,
      "metadata": {
        "id": "j9chAqmYfCO6"
      },
      "outputs": [],
      "source": [
        "def rreal(x): \n",
        "  return (2*(x**3) - 11.7*(x**2) + 17.7*x - 5)\n",
        "\n",
        "def rreal_iso(x): \n",
        "  return (2*(x**3) - 11.7*(x**2) + 18.7*x - 5)\n",
        "\n",
        "def rreal_derivada(x): \n",
        "  return (6*(x**2) - 23.4*(x) + 17.7)"
      ]
    },
    {
      "cell_type": "markdown",
      "metadata": {
        "id": "UcrRP_2efCPE"
      },
      "source": [
        "# (A)"
      ]
    },
    {
      "cell_type": "code",
      "execution_count": 21,
      "metadata": {
        "colab": {
          "base_uri": "https://localhost:8080/",
          "height": 265
        },
        "id": "xRLZZuOcfCPH",
        "outputId": "db7f33c6-1a82-4e91-8fb6-39bb0df17c58"
      },
      "outputs": [
        {
          "output_type": "display_data",
          "data": {
            "image/png": "[encoded data removed]",
            "text/plain": [
              "<Figure size 432x288 with 1 Axes>"
            ]
          },
          "metadata": {
            "needs_background": "light"
          }
        }
      ],
      "source": [
        "r1 = opt.root(rreal, 0)\n",
        "r2 = opt.root(rreal, 2)\n",
        "r3 = opt.root(rreal, 3)\n",
        "rtotal = np.array([r1.x, r2.x, r3.x])\n",
        "\n",
        "fig = plt.figure()\n",
        "a = fig.add_subplot()\n",
        "\n",
        "x = np.linspace(-1,5)\n",
        "plt.plot(x,rreal(x))\n",
        "a.plot(rtotal, rreal(rtotal), 'o')\n",
        "plt.grid(ls=':')"
      ]
    },
    {
      "cell_type": "markdown",
      "metadata": {
        "id": "djCqmDIjfCPO"
      },
      "source": [
        "# (B)"
      ]
    },
    {
      "cell_type": "code",
      "execution_count": 22,
      "metadata": {
        "colab": {
          "base_uri": "https://localhost:8080/"
        },
        "id": "4eSFbZoHfCPY",
        "outputId": "faf7fd2d-e837-4ba3-990f-2f88388f854e"
      },
      "outputs": [
        {
          "output_type": "execute_result",
          "data": {
            "text/plain": [
              "(-30850678.958379168, -30850678.958379168, 3)"
            ]
          },
          "metadata": {},
          "execution_count": 22
        }
      ],
      "source": [
        "pontof(rreal, 3, 3)"
      ]
    },
    {
      "cell_type": "markdown",
      "metadata": {
        "id": "byjuWgsefCPc"
      },
      "source": [
        "# (C)"
      ]
    },
    {
      "cell_type": "code",
      "execution_count": 23,
      "metadata": {
        "colab": {
          "base_uri": "https://localhost:8080/",
          "height": 36
        },
        "id": "matvbONDfCPd",
        "outputId": "c9f32de8-1aee-4dec-f0d5-93176c554854"
      },
      "outputs": [
        {
          "output_type": "execute_result",
          "data": {
            "application/vnd.google.colaboratory.intrinsic+json": {
              "type": "string"
            },
            "text/plain": [
              "'Raiz: 3.7929344806432264'"
            ]
          },
          "metadata": {},
          "execution_count": 23
        }
      ],
      "source": [
        "newton(rreal, rreal_derivada, 3, maxiter=3)"
      ]
    },
    {
      "cell_type": "markdown",
      "metadata": {
        "id": "7qDEJo6RfCPe"
      },
      "source": [
        "# (D)"
      ]
    },
    {
      "cell_type": "code",
      "execution_count": 24,
      "metadata": {
        "colab": {
          "base_uri": "https://localhost:8080/",
          "height": 36
        },
        "id": "o1Fe73aRfCPf",
        "outputId": "1a5664ee-0459-40c2-c2f1-76d5ed035786"
      },
      "outputs": [
        {
          "output_type": "execute_result",
          "data": {
            "application/vnd.google.colaboratory.intrinsic+json": {
              "type": "string"
            },
            "text/plain": [
              "'Raiz: 3.326530612244898'"
            ]
          },
          "metadata": {},
          "execution_count": 24
        }
      ],
      "source": [
        "secante(rreal, 4, 3, 3)"
      ]
    },
    {
      "cell_type": "markdown",
      "metadata": {
        "id": "Uw_0ffhLfCPf"
      },
      "source": [
        "# Questão 4"
      ]
    },
    {
      "cell_type": "markdown",
      "metadata": {
        "id": "zPHAnjoCfCPh"
      },
      "source": [
        "# (A)"
      ]
    },
    {
      "cell_type": "code",
      "execution_count": 25,
      "metadata": {
        "id": "2lz7ysADfCPh"
      },
      "outputs": [],
      "source": [
        "def f1(x): \n",
        "  return (2*(x**4) + 4*(x**3) + 3*(x**2) - 10*x - 15)\n",
        "def f1_iso(x): \n",
        "  return ((15)/(2*(x**3) + 4*(x**2) + 3*(x) - 10))\n",
        "def f1_der(x): \n",
        "  return  (8*(x**3) + 12*(x**2) + 6*x - 10)"
      ]
    },
    {
      "cell_type": "markdown",
      "metadata": {
        "id": "wm0cw0HIfCPi"
      },
      "source": [
        "###Bisseção"
      ]
    },
    {
      "cell_type": "code",
      "execution_count": 26,
      "metadata": {
        "colab": {
          "base_uri": "https://localhost:8080/"
        },
        "id": "sWsgkk0SfCPi",
        "outputId": "c625cf21-d71a-4eb3-b84d-1fd668b1a542"
      },
      "outputs": [
        {
          "output_type": "stream",
          "name": "stdout",
          "text": [
            "The slowest run took 5.39 times longer than the fastest. This could mean that an intermediate result is being cached.\n",
            "10000 loops, best of 5: 34 µs per loop\n"
          ]
        },
        {
          "output_type": "execute_result",
          "data": {
            "text/plain": [
              "      converged: True\n",
              "           flag: 'converged'\n",
              " function_calls: 37\n",
              "     iterations: 35\n",
              "           root: 1.4928787086100783"
            ]
          },
          "metadata": {},
          "execution_count": 26
        }
      ],
      "source": [
        "%timeit opt.root_scalar(f1, method='bisect', bracket=[0,3], rtol = 10**(-10), maxiter = 200 )\n",
        "opt.root_scalar(f1, method='bisect', bracket=[0,3], rtol = 10**(-10), maxiter = 200)"
      ]
    },
    {
      "cell_type": "markdown",
      "metadata": {
        "id": "vUMbnu8_fCPk"
      },
      "source": [
        "### Falsa posição"
      ]
    },
    {
      "cell_type": "code",
      "execution_count": 27,
      "metadata": {
        "colab": {
          "base_uri": "https://localhost:8080/"
        },
        "id": "o4oM0ylSfCPl",
        "outputId": "a9e7d260-aa55-4d59-c711-1234d883781f"
      },
      "outputs": [
        {
          "output_type": "stream",
          "name": "stdout",
          "text": [
            "1000 loops, best of 5: 459 µs per loop\n"
          ]
        },
        {
          "output_type": "execute_result",
          "data": {
            "text/plain": [
              "('Iteração: 64', 'Raiz: 1.492878708406769')"
            ]
          },
          "metadata": {},
          "execution_count": 27
        }
      ],
      "source": [
        "%timeit falsa(f1, 0, 3, 1e-10, 200)\n",
        "falsa(f1, 0, 3, 1e-10, 200)"
      ]
    },
    {
      "cell_type": "markdown",
      "metadata": {
        "id": "pXcSyANofCPl"
      },
      "source": [
        "### Ponto fixo"
      ]
    },
    {
      "cell_type": "code",
      "execution_count": 28,
      "metadata": {
        "colab": {
          "base_uri": "https://localhost:8080/"
        },
        "id": "3iLrSKqEfCPm",
        "outputId": "35d560e6-4622-40be-c0d9-78628465ce81"
      },
      "outputs": [
        {
          "output_type": "stream",
          "name": "stdout",
          "text": [
            "1000 loops, best of 5: 651 µs per loop\n"
          ]
        },
        {
          "output_type": "execute_result",
          "data": {
            "text/plain": [
              "array(1.49287871)"
            ]
          },
          "metadata": {},
          "execution_count": 28
        }
      ],
      "source": [
        "%timeit opt.fixed_point(f1_iso, 1.5, xtol = 10**(-10), maxiter = 200)\n",
        "opt.fixed_point(f1_iso, 1.5, xtol = 10**(-10), maxiter = 200)"
      ]
    },
    {
      "cell_type": "markdown",
      "metadata": {
        "id": "oceH12rsfCPm"
      },
      "source": [
        "### Método de Newton-Raphson"
      ]
    },
    {
      "cell_type": "code",
      "execution_count": 29,
      "metadata": {
        "colab": {
          "base_uri": "https://localhost:8080/"
        },
        "id": "9gnGhvkIfCPn",
        "outputId": "49122b04-237d-42ef-bd57-a81fc3a44182"
      },
      "outputs": [
        {
          "output_type": "stream",
          "name": "stdout",
          "text": [
            "10000 loops, best of 5: 133 µs per loop\n"
          ]
        },
        {
          "output_type": "execute_result",
          "data": {
            "text/plain": [
              "      converged: True\n",
              "           flag: 'converged'\n",
              " function_calls: 14\n",
              "     iterations: 7\n",
              "           root: 1.4928787086636037"
            ]
          },
          "metadata": {},
          "execution_count": 29
        }
      ],
      "source": [
        "%timeit opt.root_scalar(f1, fprime = f1_der, x0 = 1.5, method='newton', maxiter = 200)\n",
        "opt.root_scalar(f1, fprime = f1_der, x0 = 1, method='newton', maxiter = 200)"
      ]
    },
    {
      "cell_type": "markdown",
      "metadata": {
        "id": "L4NvBbs_fCPp"
      },
      "source": [
        "### Método da Secante"
      ]
    },
    {
      "cell_type": "code",
      "execution_count": 30,
      "metadata": {
        "colab": {
          "base_uri": "https://localhost:8080/"
        },
        "id": "dkBB0cGufCPp",
        "outputId": "afdbfc76-ee67-46a4-944b-aca4784a04b6"
      },
      "outputs": [
        {
          "output_type": "stream",
          "name": "stdout",
          "text": [
            "1000 loops, best of 5: 443 µs per loop\n"
          ]
        },
        {
          "output_type": "execute_result",
          "data": {
            "text/plain": [
              "      converged: True\n",
              "           flag: 'converged'\n",
              " function_calls: 12\n",
              "     iterations: 11\n",
              "           root: -1.3003841326439196"
            ]
          },
          "metadata": {},
          "execution_count": 30
        }
      ],
      "source": [
        "%timeit opt.root_scalar(f1, x0 = 0, x1 = 3, method='secant', maxiter = 200)\n",
        "opt.root_scalar(f1, x0= 0, x1 = 3, method='secant', maxiter = 200)"
      ]
    },
    {
      "cell_type": "markdown",
      "metadata": {
        "id": "Mw4DGoIefCPq"
      },
      "source": [
        "# (B) "
      ]
    },
    {
      "cell_type": "code",
      "execution_count": 31,
      "metadata": {
        "id": "Ew7bMCLgfCPq"
      },
      "outputs": [],
      "source": [
        "def f2(x): \n",
        "  return ((x + 3)*(x + 1)*(x - 2)**3)\n",
        "def f2_iso(x): \n",
        "  return ((24)/((x**4) - 2*(x**3) - 9*(x**2) + 22*x + 4))\n",
        "def f2_der(x): \n",
        "  return (2*x*(x-2)**3 + 4*(x-2)**3 + 3*(x)**4 - 27*(x)**2 + 12*x + 36)"
      ]
    },
    {
      "cell_type": "markdown",
      "metadata": {
        "id": "cgO2S2i7fCPr"
      },
      "source": [
        "### Método da Bisseção"
      ]
    },
    {
      "cell_type": "code",
      "execution_count": 32,
      "metadata": {
        "colab": {
          "base_uri": "https://localhost:8080/"
        },
        "id": "UeO5FyaofCPr",
        "outputId": "a2cb7b1d-c1fe-4deb-a9bd-76c944822ee6"
      },
      "outputs": [
        {
          "output_type": "stream",
          "name": "stdout",
          "text": [
            "10000 loops, best of 5: 25.3 µs per loop\n"
          ]
        },
        {
          "output_type": "execute_result",
          "data": {
            "text/plain": [
              "      converged: True\n",
              "           flag: 'converged'\n",
              " function_calls: 37\n",
              "     iterations: 35\n",
              "           root: 1.9999999999708962"
            ]
          },
          "metadata": {},
          "execution_count": 32
        }
      ],
      "source": [
        "%timeit opt.root_scalar(f2, method='bisect', bracket=[0,5], rtol = 10**(-10), maxiter = 200)\n",
        "opt.root_scalar(f2, method='bisect', bracket=[0,5], rtol = 10**(-10), maxiter = 200)"
      ]
    },
    {
      "cell_type": "markdown",
      "metadata": {
        "id": "DLzgwDQtfCPt"
      },
      "source": [
        "### Método da falsa posição"
      ]
    },
    {
      "cell_type": "code",
      "execution_count": 33,
      "metadata": {
        "colab": {
          "base_uri": "https://localhost:8080/"
        },
        "id": "bYu8z1FCfCPu",
        "outputId": "52e11d99-ff09-4b6d-f753-8ab3cb36a8b7"
      },
      "outputs": [
        {
          "output_type": "stream",
          "name": "stdout",
          "text": [
            "1000 loops, best of 5: 1.13 ms per loop\n"
          ]
        },
        {
          "output_type": "execute_result",
          "data": {
            "text/plain": [
              "('Iteração: 200', 'Raiz: 1.714409136227646')"
            ]
          },
          "metadata": {},
          "execution_count": 33
        }
      ],
      "source": [
        "%timeit falsa(f2, 0, 5, 1e-10, 200)\n",
        "falsa(f2, 0, 5, 1e-10, 200)"
      ]
    },
    {
      "cell_type": "markdown",
      "metadata": {
        "id": "uvZxa0fWfCPu"
      },
      "source": [
        "### Método do ponto fixo"
      ]
    },
    {
      "cell_type": "code",
      "execution_count": 34,
      "metadata": {
        "colab": {
          "base_uri": "https://localhost:8080/"
        },
        "id": "P4TcySCtfCPv",
        "outputId": "125b3faa-5878-4286-a054-160ac7a45697"
      },
      "outputs": [
        {
          "output_type": "stream",
          "name": "stdout",
          "text": [
            "100 loops, best of 5: 2.96 ms per loop\n"
          ]
        },
        {
          "output_type": "execute_result",
          "data": {
            "text/plain": [
              "array(1.99964491)"
            ]
          },
          "metadata": {},
          "execution_count": 34
        }
      ],
      "source": [
        "%timeit opt.fixed_point(f2_iso, 1.5, xtol = 10**(-10), maxiter = 200)\n",
        "opt.fixed_point(f2_iso, 1.5, xtol = 1e-10, maxiter = 200)"
      ]
    },
    {
      "cell_type": "markdown",
      "metadata": {
        "id": "hnl3U0YkfCPx"
      },
      "source": [
        "### Método de Newton-Raphson"
      ]
    },
    {
      "cell_type": "code",
      "execution_count": 35,
      "metadata": {
        "colab": {
          "base_uri": "https://localhost:8080/"
        },
        "id": "oBmZxN3tfCPx",
        "outputId": "554d44dd-557b-47c4-90ee-d55654325ef2"
      },
      "outputs": [
        {
          "output_type": "stream",
          "name": "stdout",
          "text": [
            "1000 loops, best of 5: 1.9 ms per loop\n"
          ]
        },
        {
          "output_type": "execute_result",
          "data": {
            "text/plain": [
              "      converged: True\n",
              "           flag: 'converged'\n",
              " function_calls: 100\n",
              "     iterations: 50\n",
              "           root: 2.0000000167022742"
            ]
          },
          "metadata": {},
          "execution_count": 35
        }
      ],
      "source": [
        "%timeit opt.root_scalar(f2, fprime = f2_der, x0 = 0, method='newton', maxiter = 200)\n",
        "opt.root_scalar(f2, fprime = f2_der, x0 = 0, method='newton', maxiter = 200)"
      ]
    },
    {
      "cell_type": "markdown",
      "metadata": {
        "id": "gMkI4th8fCPy"
      },
      "source": [
        "### Método da Secante"
      ]
    },
    {
      "cell_type": "code",
      "execution_count": 36,
      "metadata": {
        "colab": {
          "base_uri": "https://localhost:8080/"
        },
        "id": "wpUbCESbfCPz",
        "outputId": "53cbcc7b-4c7d-4bf3-f21f-4307a71a5d35"
      },
      "outputs": [
        {
          "output_type": "stream",
          "name": "stdout",
          "text": [
            "100 loops, best of 5: 2.18 ms per loop\n"
          ]
        },
        {
          "output_type": "execute_result",
          "data": {
            "text/plain": [
              "      converged: True\n",
              "           flag: 'converged'\n",
              " function_calls: 61\n",
              "     iterations: 60\n",
              "           root: 2.00000003865488"
            ]
          },
          "metadata": {},
          "execution_count": 36
        }
      ],
      "source": [
        "%timeit opt.root_scalar(f2, x0 = 0, x1 = 5, method='secant', maxiter = 200)\n",
        "opt.root_scalar(f2, x0 = 0, x1 = 5, method='secant', maxiter = 200)"
      ]
    },
    {
      "cell_type": "markdown",
      "metadata": {
        "id": "atkrFW-VfCP0"
      },
      "source": [
        "# (C)"
      ]
    },
    {
      "cell_type": "code",
      "execution_count": 37,
      "metadata": {
        "id": "NuHcjNVgfCP1"
      },
      "outputs": [],
      "source": [
        "def f3(x): \n",
        "  return (5*x**3 + x**2 - np.e**(1-2*x) + np.cos(x) + 20)\n",
        "def f3_iso(x): \n",
        "  return (5*x**3 + x**2 - np.e**(1-2*x) + np.cos(x) + 20 + x)\n",
        "def f3_der(x): \n",
        "  return (15*(x**2) + 2*x + 2*np.e**(1 - 2*x) - np.sin(x))"
      ]
    },
    {
      "cell_type": "markdown",
      "metadata": {
        "id": "kUFci8aNfCP2"
      },
      "source": [
        "### Método da Bisseção"
      ]
    },
    {
      "cell_type": "code",
      "execution_count": 38,
      "metadata": {
        "colab": {
          "base_uri": "https://localhost:8080/"
        },
        "id": "TIR3w9Z-fCP2",
        "outputId": "1696af4c-8100-433d-f249-b29676e0d315"
      },
      "outputs": [
        {
          "output_type": "stream",
          "name": "stdout",
          "text": [
            "10000 loops, best of 5: 99.7 µs per loop\n"
          ]
        },
        {
          "output_type": "execute_result",
          "data": {
            "text/plain": [
              "      converged: True\n",
              "           flag: 'converged'\n",
              " function_calls: 39\n",
              "     iterations: 37\n",
              "           root: -0.9295604598446516"
            ]
          },
          "metadata": {},
          "execution_count": 38
        }
      ],
      "source": [
        "%timeit opt.root_scalar(f3, method='bisect', bracket=[-5,5], rtol = 10**(-10), maxiter =200)\n",
        "opt.root_scalar(f3, method='bisect', bracket=[-5,5], rtol = 10**(-10), maxiter = 200)"
      ]
    },
    {
      "cell_type": "markdown",
      "metadata": {
        "id": "np3bJYs5fCP3"
      },
      "source": [
        "### Método da falsa posição"
      ]
    },
    {
      "cell_type": "code",
      "execution_count": 39,
      "metadata": {
        "colab": {
          "base_uri": "https://localhost:8080/"
        },
        "id": "91ZhJHz7fCP4",
        "outputId": "95e96dc0-c5d5-4227-84e6-07d3fbdd55a2"
      },
      "outputs": [
        {
          "output_type": "stream",
          "name": "stdout",
          "text": [
            "100 loops, best of 5: 4.72 ms per loop\n"
          ]
        },
        {
          "output_type": "execute_result",
          "data": {
            "text/plain": [
              "('Iteração: 200', 'Raiz: 1.568769261078005')"
            ]
          },
          "metadata": {},
          "execution_count": 39
        }
      ],
      "source": [
        "%timeit falsa(f3, -5, 5, 1e-10, 200)\n",
        "falsa(f3, -5, 5, 1e-10, 200)"
      ]
    },
    {
      "cell_type": "markdown",
      "metadata": {
        "id": "zpt6EIrOfCP5"
      },
      "source": [
        "### Método do ponto fixo"
      ]
    },
    {
      "cell_type": "code",
      "execution_count": 40,
      "metadata": {
        "colab": {
          "base_uri": "https://localhost:8080/"
        },
        "id": "L6fHDSdofCP6",
        "outputId": "1be15ee8-2d22-48ac-9a5e-ba9381f89b5f"
      },
      "outputs": [
        {
          "output_type": "stream",
          "name": "stdout",
          "text": [
            "100 loops, best of 5: 5.94 ms per loop\n"
          ]
        },
        {
          "output_type": "execute_result",
          "data": {
            "text/plain": [
              "array(-0.92956046)"
            ]
          },
          "metadata": {},
          "execution_count": 40
        }
      ],
      "source": [
        "%timeit opt.fixed_point(f3_iso,-1, xtol = 10**(-10), maxiter = 200)\n",
        "opt.fixed_point(f3_iso, -1, xtol = 10**(-10), maxiter = 200)"
      ]
    },
    {
      "cell_type": "markdown",
      "metadata": {
        "id": "VlJUM12JfCP7"
      },
      "source": [
        "### Método de Newton-Raphson"
      ]
    },
    {
      "cell_type": "code",
      "execution_count": 41,
      "metadata": {
        "colab": {
          "base_uri": "https://localhost:8080/"
        },
        "id": "unrw7pr_fCP7",
        "outputId": "c509de8f-cc20-4782-cdc1-38886c069904"
      },
      "outputs": [
        {
          "output_type": "stream",
          "name": "stdout",
          "text": [
            "1000 loops, best of 5: 732 µs per loop\n"
          ]
        },
        {
          "output_type": "execute_result",
          "data": {
            "text/plain": [
              "      converged: True\n",
              "           flag: 'converged'\n",
              " function_calls: 28\n",
              "     iterations: 14\n",
              "           root: -0.9295604598378413"
            ]
          },
          "metadata": {},
          "execution_count": 41
        }
      ],
      "source": [
        "%timeit opt.root_scalar(f3, fprime = f3_der, x0 = 4, method='newton', maxiter = 200)\n",
        "opt.root_scalar(f3, fprime = f3_der, x0 = 4, method='newton', maxiter = 200)"
      ]
    },
    {
      "cell_type": "markdown",
      "metadata": {
        "id": "u367CFahfCP9"
      },
      "source": [
        "### Método da Secante"
      ]
    },
    {
      "cell_type": "code",
      "execution_count": 42,
      "metadata": {
        "colab": {
          "base_uri": "https://localhost:8080/"
        },
        "id": "n6HJoTcIfCP-",
        "outputId": "ba2ab821-5d80-4156-e737-619c04197661"
      },
      "outputs": [
        {
          "output_type": "stream",
          "name": "stdout",
          "text": [
            "1000 loops, best of 5: 424 µs per loop\n"
          ]
        },
        {
          "output_type": "execute_result",
          "data": {
            "text/plain": [
              "      converged: True\n",
              "           flag: 'converged'\n",
              " function_calls: 10\n",
              "     iterations: 9\n",
              "           root: -0.9295604598378413"
            ]
          },
          "metadata": {},
          "execution_count": 42
        }
      ],
      "source": [
        "%timeit opt.root_scalar(f3, x0= -1, x1 = 1, method='secant', maxiter = 200)\n",
        "opt.root_scalar(f3, x0= -1, x1 = 1, method='secant', maxiter = 200)"
      ]
    },
    {
      "cell_type": "markdown",
      "metadata": {
        "id": "EY2YmhmCfCP-"
      },
      "source": [
        "# (D)"
      ]
    },
    {
      "cell_type": "code",
      "execution_count": 43,
      "metadata": {
        "id": "xDn2TFn2fCP_"
      },
      "outputs": [],
      "source": [
        "def f4(x):\n",
        "   return (np.sin(x)*x + 4)\n",
        "def f4_iso(x): \n",
        "  return ((-4)/np.sin(x))\n",
        "def f4_der(x): \n",
        "  return (x*np.cos(x) + np.sin(x))"
      ]
    },
    {
      "cell_type": "markdown",
      "metadata": {
        "id": "CjEZbEQefCQA"
      },
      "source": [
        "### Método da Bisseção"
      ]
    },
    {
      "cell_type": "code",
      "execution_count": 44,
      "metadata": {
        "colab": {
          "base_uri": "https://localhost:8080/"
        },
        "id": "mUUcRv9kfCQA",
        "outputId": "c2e15c27-f002-4ecf-9c6f-d4a17101668a"
      },
      "outputs": [
        {
          "output_type": "stream",
          "name": "stdout",
          "text": [
            "10000 loops, best of 5: 71.3 µs per loop\n"
          ]
        },
        {
          "output_type": "execute_result",
          "data": {
            "text/plain": [
              "      converged: True\n",
              "           flag: 'converged'\n",
              " function_calls: 36\n",
              "     iterations: 34\n",
              "           root: 4.323239543708041"
            ]
          },
          "metadata": {},
          "execution_count": 44
        }
      ],
      "source": [
        "%timeit opt.root_scalar(f4, method='bisect', bracket=[1,5], rtol = 10**(-10), maxiter = 200)\n",
        "opt.root_scalar(f4, method='bisect', bracket=[1,5], rtol = 10**(-10), maxiter = 200)"
      ]
    },
    {
      "cell_type": "markdown",
      "metadata": {
        "id": "mrmWvQfIfCQC"
      },
      "source": [
        "### Método da falsa posição"
      ]
    },
    {
      "cell_type": "code",
      "execution_count": 45,
      "metadata": {
        "colab": {
          "base_uri": "https://localhost:8080/"
        },
        "id": "aOZQW1uwfCQC",
        "outputId": "586a793f-4742-42ec-f2da-2bcb7e89e4b5"
      },
      "outputs": [
        {
          "output_type": "stream",
          "name": "stdout",
          "text": [
            "10000 loops, best of 5: 171 µs per loop\n"
          ]
        },
        {
          "output_type": "execute_result",
          "data": {
            "text/plain": [
              "('Iteração: 10', 'Raiz: 4.323239543723117')"
            ]
          },
          "metadata": {},
          "execution_count": 45
        }
      ],
      "source": [
        "%timeit falsa(f4, 1, 5, 1e-10, 200)\n",
        "falsa(f4, 1, 5, 1e-10, 200)"
      ]
    },
    {
      "cell_type": "markdown",
      "metadata": {
        "id": "6vZ_sdnSfCQD"
      },
      "source": [
        "### Método do ponto fixo"
      ]
    },
    {
      "cell_type": "code",
      "execution_count": 46,
      "metadata": {
        "colab": {
          "base_uri": "https://localhost:8080/"
        },
        "id": "L3BmGxKIfCQD",
        "outputId": "50353b85-1785-4407-e665-2599cf4a3ebc"
      },
      "outputs": [
        {
          "output_type": "stream",
          "name": "stdout",
          "text": [
            "100 loops, best of 5: 1.09 ms per loop\n"
          ]
        },
        {
          "output_type": "execute_result",
          "data": {
            "text/plain": [
              "array(4.32323954)"
            ]
          },
          "metadata": {},
          "execution_count": 46
        }
      ],
      "source": [
        "%timeit opt.fixed_point(f4_iso, 4, xtol = 10**(-10), maxiter = 200)\n",
        "opt.fixed_point(f4_iso, 4, xtol = 10**(-10), maxiter = 200)"
      ]
    },
    {
      "cell_type": "markdown",
      "metadata": {
        "id": "7umlbabBfCQE"
      },
      "source": [
        "### Método de Newton-Raphson"
      ]
    },
    {
      "cell_type": "code",
      "execution_count": 47,
      "metadata": {
        "colab": {
          "base_uri": "https://localhost:8080/"
        },
        "id": "b0YXXEcbfCQE",
        "outputId": "277f2f1f-628e-472c-bc41-3986e14545ae"
      },
      "outputs": [
        {
          "output_type": "stream",
          "name": "stdout",
          "text": [
            "1000 loops, best of 5: 251 µs per loop\n"
          ]
        },
        {
          "output_type": "execute_result",
          "data": {
            "text/plain": [
              "      converged: True\n",
              "           flag: 'converged'\n",
              " function_calls: 10\n",
              "     iterations: 5\n",
              "           root: 4.323239543713714"
            ]
          },
          "metadata": {},
          "execution_count": 47
        }
      ],
      "source": [
        "%timeit opt.root_scalar(f4, fprime = f4_der, x0 = 4, method='newton', maxiter = 200)\n",
        "opt.root_scalar(f4, fprime = f4_der, x0 = 4, method='newton',maxiter = 200)"
      ]
    },
    {
      "cell_type": "markdown",
      "metadata": {
        "id": "MtKbTqqGfCQF"
      },
      "source": [
        "### Método da Secante"
      ]
    },
    {
      "cell_type": "code",
      "execution_count": 48,
      "metadata": {
        "colab": {
          "base_uri": "https://localhost:8080/"
        },
        "id": "zYbHfhQTfCQF",
        "outputId": "f05ab21a-55bb-426c-f24c-66d1237cc734"
      },
      "outputs": [
        {
          "output_type": "stream",
          "name": "stdout",
          "text": [
            "1000 loops, best of 5: 322 µs per loop\n"
          ]
        },
        {
          "output_type": "execute_result",
          "data": {
            "text/plain": [
              "      converged: True\n",
              "           flag: 'converged'\n",
              " function_calls: 8\n",
              "     iterations: 7\n",
              "           root: 4.323239543713714"
            ]
          },
          "metadata": {},
          "execution_count": 48
        }
      ],
      "source": [
        "%timeit opt.root_scalar(f4, x0 = 4, x1 = 5, method='secant', maxiter = 200)\n",
        "opt.root_scalar(f4, x0 = 4, x1 = 5, method='secant', maxiter = 200)"
      ]
    },
    {
      "cell_type": "markdown",
      "metadata": {
        "id": "lc4gv38UfCQG"
      },
      "source": [
        "# (E)"
      ]
    },
    {
      "cell_type": "code",
      "execution_count": 49,
      "metadata": {
        "id": "T9503O7KfCQG"
      },
      "outputs": [],
      "source": [
        "def f5(x): \n",
        "  return ((x-3)**5 * np.log(x))\n",
        "def f5_iso(x): \n",
        "  return ((x-3)**5 * np.log(x) + x)\n",
        "def f5_der(x): \n",
        "  return (20*(4*x -3)**4 +((4*x -3)**5)/x)"
      ]
    },
    {
      "cell_type": "markdown",
      "metadata": {
        "id": "IuuPnO4WfCQH"
      },
      "source": [
        "### Método da Bisseção"
      ]
    },
    {
      "cell_type": "code",
      "execution_count": 50,
      "metadata": {
        "colab": {
          "base_uri": "https://localhost:8080/"
        },
        "id": "oSZYlxpBfCQH",
        "outputId": "ec1e3ec7-90ae-4d0b-8381-70293681b4a1"
      },
      "outputs": [
        {
          "output_type": "stream",
          "name": "stdout",
          "text": [
            "10000 loops, best of 5: 63.9 µs per loop\n"
          ]
        },
        {
          "output_type": "execute_result",
          "data": {
            "text/plain": [
              "      converged: True\n",
              "           flag: 'converged'\n",
              " function_calls: 36\n",
              "     iterations: 34\n",
              "           root: 2.9999999999417923"
            ]
          },
          "metadata": {},
          "execution_count": 50
        }
      ],
      "source": [
        "%timeit opt.root_scalar(f5, method='bisect', bracket=[2,5], rtol = 10**(-10), maxiter = 200)\n",
        "opt.root_scalar(f5, method='bisect', bracket=[2,5], rtol = 10**(-10), maxiter = 200)"
      ]
    },
    {
      "cell_type": "markdown",
      "metadata": {
        "id": "NfeAa_VMfCQI"
      },
      "source": [
        "### Método da falsa posição"
      ]
    },
    {
      "cell_type": "code",
      "execution_count": 51,
      "metadata": {
        "colab": {
          "base_uri": "https://localhost:8080/"
        },
        "id": "4-N2kJrUfCQJ",
        "outputId": "d16d54e6-7fba-4dca-d3bb-db310d2e33c7"
      },
      "outputs": [
        {
          "output_type": "stream",
          "name": "stdout",
          "text": [
            "100 loops, best of 5: 3.67 ms per loop\n"
          ]
        },
        {
          "output_type": "execute_result",
          "data": {
            "text/plain": [
              "('Iteração: 200', 'Raiz: 2.5939097642054603')"
            ]
          },
          "metadata": {},
          "execution_count": 51
        }
      ],
      "source": [
        "%timeit falsa(f5, 2, 5, 1e-10, 200)\n",
        "falsa(f5, 2, 5, 1e-10, 200)"
      ]
    },
    {
      "cell_type": "markdown",
      "metadata": {
        "id": "k927lWQlfCQJ"
      },
      "source": [
        "### Método do ponto fixo"
      ]
    },
    {
      "cell_type": "code",
      "execution_count": 52,
      "metadata": {
        "colab": {
          "base_uri": "https://localhost:8080/"
        },
        "id": "NsRnnC6sfCQJ",
        "outputId": "1d2c1547-8407-4ce4-ac69-10a971907c96"
      },
      "outputs": [
        {
          "output_type": "stream",
          "name": "stdout",
          "text": [
            "Failed to converge after 200 iterations, value is 2.989033570607521\n"
          ]
        }
      ],
      "source": [
        "try: \n",
        "    %timeit opt.fixed_point(f5_iso, 2.5, xtol = 10**(-10), maxiter = 200)\n",
        "    print(opt.fixed_point(f5_iso, 2.5, xtol = 10**(-10), maxiter = 200))\n",
        "    \n",
        "except RuntimeError as e:\n",
        "    print(e)"
      ]
    },
    {
      "cell_type": "markdown",
      "metadata": {
        "id": "4pLvWNmyfCQK"
      },
      "source": [
        "### Método de Newton-Raphson"
      ]
    },
    {
      "cell_type": "code",
      "execution_count": 53,
      "metadata": {
        "colab": {
          "base_uri": "https://localhost:8080/"
        },
        "id": "Dx0NwaDyfCQM",
        "outputId": "1f5a5c96-7dc3-41b9-d8dc-9436e1d8c55e"
      },
      "outputs": [
        {
          "output_type": "stream",
          "name": "stdout",
          "text": [
            "10000 loops, best of 5: 60.8 µs per loop\n"
          ]
        },
        {
          "output_type": "execute_result",
          "data": {
            "text/plain": [
              "      converged: True\n",
              "           flag: 'converged'\n",
              " function_calls: 2\n",
              "     iterations: 1\n",
              "           root: 2.9000000000847543"
            ]
          },
          "metadata": {},
          "execution_count": 53
        }
      ],
      "source": [
        "%timeit opt.root_scalar(f5, fprime = f5_der, x0 = 2.9, method='newton',maxiter = 200)\n",
        "opt.root_scalar(f5, fprime = f5_der, x0 = 2.9, method='newton', maxiter = 200)"
      ]
    },
    {
      "cell_type": "markdown",
      "metadata": {
        "id": "f0LYC6a_fCQN"
      },
      "source": [
        "### Método da Secante"
      ]
    },
    {
      "cell_type": "code",
      "execution_count": 54,
      "metadata": {
        "colab": {
          "base_uri": "https://localhost:8080/"
        },
        "id": "S2bN8KVEfCQP",
        "outputId": "1367903c-1f2e-4711-ca38-740bce3fa204"
      },
      "outputs": [
        {
          "output_type": "stream",
          "name": "stdout",
          "text": [
            "100 loops, best of 5: 3.93 ms per loop\n"
          ]
        },
        {
          "output_type": "execute_result",
          "data": {
            "text/plain": [
              "      converged: True\n",
              "           flag: 'converged'\n",
              " function_calls: 93\n",
              "     iterations: 92\n",
              "           root: 2.9999999155028503"
            ]
          },
          "metadata": {},
          "execution_count": 54
        }
      ],
      "source": [
        "%timeit opt.root_scalar(f5, x0 = 2.9, x1 = 3.5, method='secant', maxiter = 200)\n",
        "opt.root_scalar(f5, x0 = 2.9, x1 = 3.5, method='secant', maxiter = 200)"
      ]
    },
    {
      "cell_type": "markdown",
      "metadata": {
        "id": "HSOl7BmVfCQR"
      },
      "source": [
        "# (F)"
      ]
    },
    {
      "cell_type": "code",
      "execution_count": 55,
      "metadata": {
        "id": "9vgjRQsWfCQV"
      },
      "outputs": [],
      "source": [
        "def f6(x): \n",
        "  return ((x)**10 -1)\n",
        "def f6_iso(x): \n",
        "  return  (1/(x)**9)\n",
        "def f6_der(x): \n",
        "  return (10*(x)**9)"
      ]
    },
    {
      "cell_type": "markdown",
      "metadata": {
        "id": "eYkYssUKfCQW"
      },
      "source": [
        "### Método da Bisseção"
      ]
    },
    {
      "cell_type": "code",
      "execution_count": 56,
      "metadata": {
        "colab": {
          "base_uri": "https://localhost:8080/"
        },
        "id": "22a2-S6-fCQY",
        "outputId": "de6ed097-d5e8-425e-a928-3187780deda7"
      },
      "outputs": [
        {
          "output_type": "stream",
          "name": "stdout",
          "text": [
            "The slowest run took 6.54 times longer than the fastest. This could mean that an intermediate result is being cached.\n",
            "100000 loops, best of 5: 9.09 µs per loop\n"
          ]
        },
        {
          "output_type": "execute_result",
          "data": {
            "text/plain": [
              "      converged: True\n",
              "           flag: 'converged'\n",
              " function_calls: 3\n",
              "     iterations: 1\n",
              "           root: 1.0"
            ]
          },
          "metadata": {},
          "execution_count": 56
        }
      ],
      "source": [
        "%timeit opt.root_scalar(f6, method='bisect', bracket=[0.8,1.2], rtol = 10**(-10), maxiter = 200)\n",
        "opt.root_scalar(f6, method='bisect', bracket=[0.8,1.2], rtol = 10**(-10), maxiter = 200)"
      ]
    },
    {
      "cell_type": "markdown",
      "metadata": {
        "id": "O-L9Jf5kfCQb"
      },
      "source": [
        "### Método da falsa posição"
      ]
    },
    {
      "cell_type": "code",
      "execution_count": 57,
      "metadata": {
        "colab": {
          "base_uri": "https://localhost:8080/"
        },
        "id": "m7Uhxm-SfCQp",
        "outputId": "2684f9f5-dafc-433a-c694-7406c791a79b"
      },
      "outputs": [
        {
          "output_type": "stream",
          "name": "stdout",
          "text": [
            "1000 loops, best of 5: 205 µs per loop\n"
          ]
        },
        {
          "output_type": "execute_result",
          "data": {
            "text/plain": [
              "('Iteração: 45', 'Raiz: 0.9999999999002991')"
            ]
          },
          "metadata": {},
          "execution_count": 57
        }
      ],
      "source": [
        "%timeit falsa(f6, 0.8, 1.2, 1e-10, 200)\n",
        "falsa(f6, 0.8, 1.2, 1e-10, 200)"
      ]
    },
    {
      "cell_type": "markdown",
      "metadata": {
        "id": "bFXVbjj3fCQr"
      },
      "source": [
        "### Método do ponto fixo"
      ]
    },
    {
      "cell_type": "code",
      "execution_count": 58,
      "metadata": {
        "colab": {
          "base_uri": "https://localhost:8080/"
        },
        "id": "26raWtWLfCQs",
        "outputId": "20189894-3f1c-4896-e068-c5a26a07dcd2"
      },
      "outputs": [
        {
          "output_type": "stream",
          "name": "stdout",
          "text": [
            "10000 loops, best of 5: 168 µs per loop\n"
          ]
        },
        {
          "output_type": "execute_result",
          "data": {
            "text/plain": [
              "array(1.)"
            ]
          },
          "metadata": {},
          "execution_count": 58
        }
      ],
      "source": [
        "%timeit opt.fixed_point(f6_iso, 1, xtol = 10**(-10), maxiter = 200)\n",
        "opt.fixed_point(f6_iso, 1, xtol = 10**(-10), maxiter = 200)"
      ]
    },
    {
      "cell_type": "markdown",
      "metadata": {
        "id": "9kJthl_VfCQt"
      },
      "source": [
        "### Método de Newton-Raphson"
      ]
    },
    {
      "cell_type": "code",
      "execution_count": 59,
      "metadata": {
        "colab": {
          "base_uri": "https://localhost:8080/"
        },
        "id": "ecaXYSTqfCQt",
        "outputId": "d7922793-629c-45b4-d8f2-34e258d0d940"
      },
      "outputs": [
        {
          "output_type": "stream",
          "name": "stdout",
          "text": [
            "1000 loops, best of 5: 1.59 ms per loop\n"
          ]
        },
        {
          "output_type": "execute_result",
          "data": {
            "text/plain": [
              "      converged: True\n",
              "           flag: 'converged'\n",
              " function_calls: 86\n",
              "     iterations: 43\n",
              "           root: 1.0"
            ]
          },
          "metadata": {},
          "execution_count": 59
        }
      ],
      "source": [
        "%timeit opt.root_scalar(f6, fprime = f6_der, x0 = 0.5, method='newton',maxiter = 200)\n",
        "opt.root_scalar(f6, fprime = f6_der, x0 = 0.5, method='newton', maxiter = 200)"
      ]
    },
    {
      "cell_type": "markdown",
      "metadata": {
        "id": "iPPU9KKvfCQu"
      },
      "source": [
        "### Método da Secante"
      ]
    },
    {
      "cell_type": "code",
      "execution_count": 60,
      "metadata": {
        "colab": {
          "base_uri": "https://localhost:8080/"
        },
        "id": "Sx02ty14fCQv",
        "outputId": "d8d77feb-26f5-4551-a265-6f6b62babc95"
      },
      "outputs": [
        {
          "output_type": "stream",
          "name": "stdout",
          "text": [
            "1000 loops, best of 5: 385 µs per loop\n"
          ]
        },
        {
          "output_type": "execute_result",
          "data": {
            "text/plain": [
              "      converged: True\n",
              "           flag: 'converged'\n",
              " function_calls: 11\n",
              "     iterations: 10\n",
              "           root: 0.9999999999999333"
            ]
          },
          "metadata": {},
          "execution_count": 60
        }
      ],
      "source": [
        "%timeit opt.root_scalar(f6, x0= 0.8, x1 = 1.2, method='secant', maxiter = 200)\n",
        "opt.root_scalar(f6, x0 = 0.8, x1 = 1.2, method='secant', maxiter = 200)"
      ]
    }
  ],
  "metadata": {
    "kernelspec": {
      "display_name": "Python 3",
      "language": "python",
      "name": "python3"
    },
    "language_info": {
      "codemirror_mode": {
        "name": "ipython",
        "version": 3
      },
      "file_extension": ".py",
      "mimetype": "text/x-python",
      "name": "python",
      "nbconvert_exporter": "python",
      "pygments_lexer": "ipython3",
      "version": "3.7.6"
    },
    "colab": {
      "name": "Lista5MÉTODOS.ipynb",
      "provenance": []
    }
  },
  "nbformat": 4,
  "nbformat_minor": 0
}