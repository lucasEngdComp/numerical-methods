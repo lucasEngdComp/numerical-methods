{
 "cells": [
  {
   "cell_type": "markdown",
   "metadata": {},
   "source": [
    "<div class=\"alert alert-block alert-info\">\n",
    "    \n",
    "<h1 style=\"color:Blue;\"> <center> <ins> <b> \n",
    "Métodos Numéricos\n",
    "</b> </ins> </center> </h1>\n",
    "    \n",
    "<h3 style=\"color:Blue;\"> <center> <b> \n",
    "Método da Bisseção Usando Scipy\n",
    "</b></center> </h3>\n",
    "    \n",
    "</div>\n",
    "\n",
    "Nossa aula de hoje tem como objetivo principal mostrar como usar as funções existentes na biblioteca `Scipy` para calcular a raiz de uma equação não linear pelo método da bisseção.\n",
    "\n",
    "A busca por raízes que solucionem equações não lineares é implementada na biblioteca scipy no submódulo `optimize`, cujas funções são mostradas na [documentação](https://docs.scipy.org/doc/scipy/reference/optimize.html).\n",
    "\n",
    "Vamos chamar todas as bibliotecas que precisamos."
   ]
  },
  {
   "cell_type": "code",
   "execution_count": 1,
   "metadata": {},
   "outputs": [],
   "source": [
    "import numpy as np\n",
    "import scipy.optimize as opt\n",
    "import matplotlib.pyplot as plt"
   ]
  },
  {
   "cell_type": "markdown",
   "metadata": {},
   "source": [
    "O módulo `optimize` provê funções para minimização (ou maximização) de funções objetivo, possivelmente sujeitas à restrições. Ele inclui solucionadores de problemas não lineares (com suporte à algoritmos de otimização global e local), programação linear, mínimos quadrados não lineares e restritos, busca de raiz e ajuste de curva.\n",
    "\n",
    "Para a solução de equações não lineares (busca de raiz), nosso objetivo aqui, o módulo apresenta diversas funções:\n",
    "\n",
    "* __brentq__: encontra a raiz de uma equação usando o método de Brent;\n",
    "* __brenth__: encontra a raiz de uma equação usando o método de Brent com\n",
    "extrapolação hiperbólica;\n",
    "* __ridder__: encontra a raiz de uma equação usando o método de Ridder;\n",
    "* __bisect__: encontra a raiz de uma equação usando o método da Bisseção (o estudado nessa aula);\n",
    "* __newton__: encontra a raiz de uma equação usando o método de Newton, da secante ou Halley, dependendo dos parâmetros (próximas sessões) ;\n",
    "* __tom748__: encontra a raiz de uma equação usando o método do algoritmo TOMS 748;\n",
    "* __fixed_point__: encontra o ponto fixo de uma função (trabalharemos logo em seguida).\n",
    "\n",
    "Além dessas funções, que implementam alguns dos métodos que consideraremos\n",
    "nesse curso, a partir a versão 1.2.1 da biblioteca scipy trouxe, como uma das principais modificações para esse módulo, a implementação da função `root_scalar`, cujo objetivo é encontrar a raiz de uma equação não linear. A diferença dela para as demais funções listadas acima é que ela funciona como uma interface unificada para todos esses métodos\n",
    "(exceto `fixed_point`) em uma função só, isto é, podemos usar a função `root_scalar` para encontrar a raiz de uma função com qualquer dos métodos disponíveis, simplesmente, para tal, escolhando os parâmetros certos. __Essa será nossa abordagem!\n",
    "\n",
    "Para o método da bisseção, a função `root_scalar` possui três argumentos\n",
    "obrigatórios (não _default_, que precisam ser atribuídos pelo usuário): \n",
    "\n",
    "* `f`, que define a função da equação que será avaliada, \n",
    "* `method`, que define o tipo do método usado pela função (no nosso caso `’bisect’`), e \n",
    "* `bracket`, que recebe uma lista com dois valores, referentes aos limites $a$ e $b$ do intervalo $[a, b]$ no qual a equação será avaliada.\n",
    "\n",
    "Usaremos como exemplo, pra verificar a usabilidade da função `root_scalar`, o\n",
    "mesmo exemplo estudado na aula anterior, baseado na função\n",
    "\n",
    "$$\n",
    "e^x = x+2~~~~~~~~\\Rightarrow~~~~~~~~ f(x) = e^x - x-2 = 0\n",
    "$$\n",
    "\n",
    "avaliando as raízes no intervalo $[0,2]$."
   ]
  },
  {
   "cell_type": "code",
   "execution_count": 8,
   "metadata": {},
   "outputs": [],
   "source": [
    "f = lambda x: np.exp(x) - x - 2\n",
    "f1 = lambda x: np.exp(x)\n",
    "f2 = lambda x: x + 2"
   ]
  },
  {
   "cell_type": "code",
   "execution_count": 15,
   "metadata": {},
   "outputs": [
    {
     "data": {
      "image/png": "[encoded data removed]",
      "text/plain": [
       "<Figure size 432x288 with 1 Axes>"
      ]
     },
     "metadata": {
      "needs_background": "light"
     },
     "output_type": "display_data"
    }
   ],
   "source": [
    "x = np.linspace(-3,3,200)\n",
    "plt.plot(x,f(x))\n",
    "plt.plot(x,f1(x),color='r')\n",
    "plt.plot(x,f2(x),color='g')\n",
    "plt.plot()\n",
    "plt.grid()"
   ]
  },
  {
   "cell_type": "markdown",
   "metadata": {},
   "source": [
    "E para encontrar a raiz, basta usar"
   ]
  },
  {
   "cell_type": "code",
   "execution_count": 16,
   "metadata": {},
   "outputs": [
    {
     "data": {
      "text/plain": [
       "      converged: True\n",
       "           flag: 'converged'\n",
       " function_calls: 42\n",
       "     iterations: 40\n",
       "           root: 1.1461932206202619"
      ]
     },
     "execution_count": 16,
     "metadata": {},
     "output_type": "execute_result"
    }
   ],
   "source": [
    "raiz = opt.root_scalar(f,method= 'bisect',bracket=[0,2])\n",
    "raiz"
   ]
  },
  {
   "cell_type": "markdown",
   "metadata": {},
   "source": [
    "Notemos que a saída mostra um conjunto de informações, agrupado em um objeto\n",
    "chamado de `RootResults`, descrito pela sua [documentação](https://docs.scipy.org/doc/scipy/reference/generated/scipy.optimize.RootResults.html). Esse objeto possui como atributos mais importantes\n",
    "\n",
    "* __root__: valor da raiz encontrada;\n",
    "* __iterations__: número de iterações para encontrar a raiz;\n",
    "* __function_calls__: número de vezes que a função foi chamada durante os cálculos;\n",
    "* __converged__: indica se o método de fato convergiu e encontrou a raiz;\n",
    "* __flag__: causa da parada do algoritmo.\n",
    "\n",
    "Dessa forma, o que vemos na saída é que o método convergiu e encontrou a raiz, de valor $1.1461932206202619$, após 40 iterações, durante as quais a função foi chamada 42 vezes.\n",
    "\n",
    "Nós também podemos acessar os valores de cada atributo desse individualmente, bastanto, para isso, referenciar o atributo como um objeto.\n",
    "\n",
    "Dessa forma, para saber somente o resultado da raiz, basta fazer"
   ]
  },
  {
   "cell_type": "code",
   "execution_count": 17,
   "metadata": {},
   "outputs": [
    {
     "data": {
      "text/plain": [
       "1.1461932206202619"
      ]
     },
     "execution_count": 17,
     "metadata": {},
     "output_type": "execute_result"
    }
   ],
   "source": [
    "raiz.root"
   ]
  },
  {
   "cell_type": "markdown",
   "metadata": {},
   "source": [
    "e, para saber o número de iterações, basta fazer"
   ]
  },
  {
   "cell_type": "code",
   "execution_count": 18,
   "metadata": {},
   "outputs": [
    {
     "data": {
      "text/plain": [
       "40"
      ]
     },
     "execution_count": 18,
     "metadata": {},
     "output_type": "execute_result"
    }
   ],
   "source": [
    "raiz.iterations"
   ]
  },
  {
   "cell_type": "markdown",
   "metadata": {},
   "source": [
    "seguindo esse procedimento para qualquer um dos possíveis atributos do objeto\n",
    "`RootResults`.\n",
    "\n",
    "Podemos ainda aplicar esse mesmo procedimento diretamente na função,"
   ]
  },
  {
   "cell_type": "code",
   "execution_count": 19,
   "metadata": {},
   "outputs": [
    {
     "data": {
      "text/plain": [
       "1.1461932206202619"
      ]
     },
     "execution_count": 19,
     "metadata": {},
     "output_type": "execute_result"
    }
   ],
   "source": [
    "opt.root_scalar(f, method= 'bisect', bracket=[0,2]).root"
   ]
  },
  {
   "cell_type": "markdown",
   "metadata": {},
   "source": [
    "obtendo, obviamente, o mesmo resultado."
   ]
  },
  {
   "cell_type": "markdown",
   "metadata": {},
   "source": [
    "Com relação ao critério de parada relacionado ao erro, existem dois parâmetros na função `root_scalar` para a definição da tolerância:\n",
    "\n",
    "* `xtol`, que define a tolerância absoluta e \n",
    "* `rtol`, que define a tolerância relativa como critério\n",
    "de parada. \n",
    "\n",
    "Vamos testar os dois, considerando o mesmo valor de $10^{-1}$ como exemplo.\n",
    "\n"
   ]
  },
  {
   "cell_type": "code",
   "execution_count": 23,
   "metadata": {},
   "outputs": [
    {
     "data": {
      "text/plain": [
       "      converged: True\n",
       "           flag: 'converged'\n",
       " function_calls: 7\n",
       "     iterations: 5\n",
       "           root: -1.8125"
      ]
     },
     "execution_count": 23,
     "metadata": {},
     "output_type": "execute_result"
    }
   ],
   "source": [
    "opt.root_scalar(f, method= 'bisect', \n",
    "                bracket=[-2,0], \n",
    "                xtol=1e-1)"
   ]
  },
  {
   "cell_type": "code",
   "execution_count": 24,
   "metadata": {},
   "outputs": [
    {
     "data": {
      "text/plain": [
       "      converged: True\n",
       "           flag: 'converged'\n",
       " function_calls: 6\n",
       "     iterations: 4\n",
       "           root: -1.875"
      ]
     },
     "execution_count": 24,
     "metadata": {},
     "output_type": "execute_result"
    }
   ],
   "source": [
    "opt.root_scalar(f, method= 'bisect', \n",
    "                bracket=[-2,0], \n",
    "                rtol=1e-1)"
   ]
  },
  {
   "cell_type": "markdown",
   "metadata": {},
   "source": [
    "Notemos que as duas raízes são diferentes e, ainda mais, quando adotamos como\n",
    "critério `rtol`, a convergência acontece com uma iteração a menos do que quando usamos `xtol`. Porque isso acontece?\n",
    "\n",
    "Se a escolha for `xtol`, a função testa, como critério de parada, se o erro absoluto é menor que o valor do parâmetro, isto é, se\n",
    "\n",
    "$$\n",
    "\\varepsilon_a = \\left|x_{i+1} - x_i\\right| = \\dfrac{b_i - a_i}{2} \\leqslant xtol\n",
    "$$\n",
    "\n",
    "ao passo que, se a escolha for `rtol`, a função testa se o erro relativo é menor que o valor do parâmetro, isto é, se\n",
    "\n",
    "$$\n",
    "\\varepsilon_r = \\left|\\dfrac{x_{i+1} - x_i}{x_{i+1}}\\right| \\leqslant rtol\n",
    "$$\n",
    "\n",
    "A escolha de que parâmetro escolher como critério de parada relativo ao erro fica, literalmente, a gosto do \"freguês\" .\n",
    "\n",
    "Mas o que acontece se usarmos os dois, com mesmo valor, no mesmo cálculo?"
   ]
  },
  {
   "cell_type": "code",
   "execution_count": 25,
   "metadata": {},
   "outputs": [
    {
     "data": {
      "text/plain": [
       "      converged: True\n",
       "           flag: 'converged'\n",
       " function_calls: 5\n",
       "     iterations: 3\n",
       "           root: -1.75"
      ]
     },
     "execution_count": 25,
     "metadata": {},
     "output_type": "execute_result"
    }
   ],
   "source": [
    "opt.root_scalar(f, method= 'bisect', bracket=[-2,0], xtol=1e-1, rtol=1e-1)"
   ]
  },
  {
   "cell_type": "markdown",
   "metadata": {},
   "source": [
    "Opa... um resultado bem diferente... Deixo a critério do aluno interpretar esse resultado."
   ]
  },
  {
   "cell_type": "markdown",
   "metadata": {},
   "source": [
    "Outro critério que pode ser adotado é com relação ao número de iterações desejada. Esse critério pode ser ajustado pelo parâmetro `maxiter`, que define o número máximo de iterações como critério de parada do algoritmo.\n",
    "\n",
    "É interessante notar que, como esperado, a função irá parar de iterar assim que um dois dois critérios for atingido, não necessitando que os dois sejam satisfeitos. Vejamos um exemplo"
   ]
  },
  {
   "cell_type": "code",
   "execution_count": 26,
   "metadata": {},
   "outputs": [
    {
     "data": {
      "text/plain": [
       "      converged: True\n",
       "           flag: 'converged'\n",
       " function_calls: 37\n",
       "     iterations: 35\n",
       "           root: -1.8414056604378857"
      ]
     },
     "execution_count": 26,
     "metadata": {},
     "output_type": "execute_result"
    }
   ],
   "source": [
    "opt.root_scalar(f, method= 'bisect', bracket=[-2,0], xtol=1e-10, maxiter=100)"
   ]
  },
  {
   "cell_type": "markdown",
   "metadata": {},
   "source": [
    "Como vemos, com uma tolerância de $10^{−10}$ , e um número máximo de 100 iterações, nossa saída mostra uma convergência com apenas 35 iterações. Dessa forma, podemos afirmar que a parada se deu porque o critério da tolerância foi atingido antes do critério do número máximo de iterações.\n",
    "\n",
    "Vamos agora repetir o teste, porém colocando um número máximo de 30 iterações."
   ]
  },
  {
   "cell_type": "code",
   "execution_count": 27,
   "metadata": {},
   "outputs": [
    {
     "data": {
      "text/plain": [
       "      converged: False\n",
       "           flag: 'convergence error'\n",
       " function_calls: 32\n",
       "     iterations: 30\n",
       "           root: -1.8414056617766619"
      ]
     },
     "execution_count": 27,
     "metadata": {},
     "output_type": "execute_result"
    }
   ],
   "source": [
    "opt.root_scalar(f, method= 'bisect', bracket=[-2,0], xtol=1e-10, maxiter=30)"
   ]
  },
  {
   "cell_type": "markdown",
   "metadata": {},
   "source": [
    "Vemos aqui que o algoritmo não converge, como mostram, na saída, `converged` e `flag`, justamente pelo erro ainda ser maior que o mínimo tolerável, uma vez que o critério do número de iterações foi atingido antes e, dessa forma, as iterações foram interrompidas precocemente."
   ]
  }
 ],
 "metadata": {
  "kernelspec": {
   "display_name": "Python 3",
   "language": "python",
   "name": "python3"
  },
  "language_info": {
   "codemirror_mode": {
    "name": "ipython",
    "version": 3
   },
   "file_extension": ".py",
   "mimetype": "text/x-python",
   "name": "python",
   "nbconvert_exporter": "python",
   "pygments_lexer": "ipython3",
   "version": "3.8.5"
  }
 },
 "nbformat": 4,
 "nbformat_minor": 4
}
