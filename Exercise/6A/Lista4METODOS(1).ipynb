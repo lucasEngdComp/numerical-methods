{
  "cells": [
    {
      "cell_type": "code",
      "execution_count": 1,
      "metadata": {
        "id": "1KyiNtPJsY5o"
      },
      "outputs": [],
      "source": [
        "import numpy as np\n",
        "import math\n",
        "import pandas as pd\n",
        "import scipy.optimize as opt\n",
        "import matplotlib.pyplot as plt\n",
        "from sympy import *\n",
        "%matplotlib inline"
      ]
    },
    {
      "cell_type": "markdown",
      "metadata": {
        "id": "8r3JnB0UsY5z"
      },
      "source": [
        "# Questão 1"
      ]
    },
    {
      "cell_type": "code",
      "execution_count": 2,
      "metadata": {
        "id": "V7ChKwrcsY53"
      },
      "outputs": [],
      "source": [
        "def bissecao(f, a, b, tol=1e-10, iteracao=9999):\n",
        "    i  = 0;\n",
        "    erro, x_ant = 1, a\n",
        "    \n",
        "    while(erro > tol and i < iteracao):\n",
        "        inf = np.sign(f(a))\n",
        "        sup = np.sign(f(b))\n",
        "        \n",
        "        if (inf * sup != -1):\n",
        "            print(\"Não há raiz nesse intervalo:\")\n",
        "            return\n",
        "        else:\n",
        "            x = (a + b)/2.\n",
        "            if (f(x) == 0):\n",
        "                print(\"A raíz é:\", x)\n",
        "                return\n",
        "            elif (inf * np.sign(f(x)) == -1):\n",
        "                b = x\n",
        "            else: a = x\n",
        "            i += 1\n",
        "        erro = np.abs((x - x_ant)/np.abs(x))\n",
        "        x_ant = x\n",
        "    return x"
      ]
    },
    {
      "cell_type": "code",
      "execution_count": 3,
      "metadata": {
        "id": "BCMpvUnHsY59"
      },
      "outputs": [],
      "source": [
        "f = lambda x: x**5+2*x**3-5*x-2"
      ]
    },
    {
      "cell_type": "code",
      "execution_count": 4,
      "metadata": {
        "colab": {
          "base_uri": "https://localhost:8080/",
          "height": 266
        },
        "id": "43q2ZBAKsY6F",
        "outputId": "25cf7222-ec69-4d50-ffb2-2cb91fee919c"
      },
      "outputs": [
        {
          "output_type": "display_data",
          "data": {
            "image/png": "[encoded data removed]",
            "text/plain": [
              "<Figure size 432x288 with 1 Axes>"
            ]
          },
          "metadata": {
            "needs_background": "light"
          }
        }
      ],
      "source": [
        "x = np.linspace(-3, 3, 100)\n",
        "plt.plot(x, f(x))\n",
        "plt.grid()"
      ]
    },
    {
      "cell_type": "code",
      "execution_count": 5,
      "metadata": {
        "colab": {
          "base_uri": "https://localhost:8080/"
        },
        "id": "cjNfyTBGsY6N",
        "outputId": "d75bdd94-062f-44dc-9015-2e595d2b085b"
      },
      "outputs": [
        {
          "output_type": "stream",
          "name": "stderr",
          "text": [
            "/usr/local/lib/python3.7/dist-packages/ipykernel_launcher.py:21: RuntimeWarning: divide by zero encountered in double_scalars\n"
          ]
        },
        {
          "output_type": "execute_result",
          "data": {
            "text/plain": [
              "1.3197021484375"
            ]
          },
          "metadata": {},
          "execution_count": 5
        }
      ],
      "source": [
        "bissecao(f, -2, 2, 1e-4)"
      ]
    },
    {
      "cell_type": "code",
      "execution_count": 6,
      "metadata": {
        "colab": {
          "base_uri": "https://localhost:8080/"
        },
        "id": "rJrKqyCksY6T",
        "outputId": "84f3f39e-a1ea-43f7-cd82-71df561b84b7"
      },
      "outputs": [
        {
          "output_type": "execute_result",
          "data": {
            "text/plain": [
              "1.4141082763671875"
            ]
          },
          "metadata": {},
          "execution_count": 6
        }
      ],
      "source": [
        "f = lambda x: ( x**2 - 2 )\n",
        "bissecao(f, -1, 8, 1e-4)"
      ]
    },
    {
      "cell_type": "markdown",
      "metadata": {
        "id": "_lcRwfjEsY6X"
      },
      "source": [
        "# Questão 2"
      ]
    },
    {
      "cell_type": "code",
      "execution_count": 7,
      "metadata": {
        "id": "hhCnON37sY6a"
      },
      "outputs": [],
      "source": [
        "def function(x):\n",
        "    return (-0.5 * (x**2)) + 2.5*x + 4.5"
      ]
    },
    {
      "cell_type": "markdown",
      "metadata": {
        "id": "jbSKN0kzsY6k"
      },
      "source": [
        "# (A)"
      ]
    },
    {
      "cell_type": "code",
      "execution_count": 8,
      "metadata": {
        "colab": {
          "base_uri": "https://localhost:8080/",
          "height": 265
        },
        "id": "jdosQdsxsY6o",
        "outputId": "063fdacc-dff1-4a76-baff-262a46d13a9e"
      },
      "outputs": [
        {
          "output_type": "display_data",
          "data": {
            "image/png": "[encoded data removed]",
            "text/plain": [
              "<Figure size 432x288 with 1 Axes>"
            ]
          },
          "metadata": {
            "needs_background": "light"
          }
        }
      ],
      "source": [
        "x = np.linspace(-5, 10)\n",
        "\n",
        "r1 = opt.root(function, -2)\n",
        "r2 = opt.root(function, 7)\n",
        "rt = np.array([r1.x, r2.x])\n",
        "fig = plt.figure()\n",
        "a = fig.add_subplot()\n",
        "plt.plot(x, function(x))\n",
        "a.plot(rt, function(rt), 'o')\n",
        "plt.grid(ls=':')"
      ]
    },
    {
      "cell_type": "markdown",
      "metadata": {
        "id": "DCYFrtXosY6u"
      },
      "source": [
        "# (B)"
      ]
    },
    {
      "cell_type": "code",
      "execution_count": 9,
      "metadata": {
        "colab": {
          "base_uri": "https://localhost:8080/"
        },
        "id": "U4eo5HkKsY61",
        "outputId": "8dc37f2e-5ac9-4add-da44-7551cd321d5b"
      },
      "outputs": [
        {
          "output_type": "stream",
          "name": "stdout",
          "text": [
            "(6.405124837953327, -1.405124837953327)\n",
            "\n",
            "6.405124837953327 -1.4051248379533272\n"
          ]
        }
      ],
      "source": [
        "def quadratica(a, b, c):\n",
        "    delta = (b**2) - (4 * a * c) # Δ=b²- 4.a.c\n",
        "    x1 = (-b-math.sqrt(delta)) / (2 * a)\n",
        "    x2 = (-b+math.sqrt(delta)) / (2 * a)\n",
        "    return x1, x2\n",
        "\n",
        "print(quadratica(-0.5, 2.5, 4.5))\n",
        "x1, x2 = np.roots([-0.5, 2.5, 4.5])\n",
        "print(x1, x2)"
      ]
    },
    {
      "cell_type": "markdown",
      "metadata": {
        "id": "5HYLpIKPsY63"
      },
      "source": [
        "# (C)"
      ]
    },
    {
      "cell_type": "markdown",
      "metadata": {
        "id": "DjBM5te1sY64"
      },
      "source": [
        "### Erro relativo entre cada iteração"
      ]
    },
    {
      "cell_type": "code",
      "execution_count": 10,
      "metadata": {
        "colab": {
          "base_uri": "https://localhost:8080/"
        },
        "id": "_P6xpMYFsY65",
        "outputId": "11cbd9e5-62ff-426e-985d-fc328654867c"
      },
      "outputs": [
        {
          "output_type": "stream",
          "name": "stdout",
          "text": [
            "Iteração: 0 \t Raiz: 5.0 \t Erro: 0.2\n",
            "Iteração: 1 \t Raiz: 6.25 \t Erro: 0.0\n",
            "Iteração: 2 \t Raiz: 6.25 \t Erro: 0.0\n"
          ]
        }
      ],
      "source": [
        "error = []\n",
        "raizes = []\n",
        "\n",
        "for i in range(1,5):\n",
        "    if (i <= 3):\n",
        "        raiz = opt.root_scalar(f,method='bisect',bracket=[5,10], maxiter=i).root\n",
        "        x = opt.root_scalar(f,method='bisect',bracket=[5,10], maxiter=(i+1)).root\n",
        "        raizes.append(raiz)\n",
        "        error.append(np.absolute(x - raiz)/x)\n",
        "\n",
        "for i in range(len(error)):\n",
        "    print(f'Iteração: {i} \\t Raiz: {raizes[i]} \\t Erro: {error[i]}')"
      ]
    },
    {
      "cell_type": "markdown",
      "metadata": {
        "id": "UDpM2piVsY68"
      },
      "source": [
        "### Erro relativo como valor real"
      ]
    },
    {
      "cell_type": "code",
      "execution_count": 11,
      "metadata": {
        "colab": {
          "base_uri": "https://localhost:8080/"
        },
        "id": "OaCu9LL-sY6-",
        "outputId": "ba99bba5-f9be-4528-f853-eb4176e9c390"
      },
      "outputs": [
        {
          "output_type": "stream",
          "name": "stdout",
          "text": [
            "Iteração: 0 \t Raiz: 5.0 \t Erro: 0.2193750900259293\n",
            "Iteração: 1 \t Raiz: 6.25 \t Erro: 0.024218862532411636\n",
            "Iteração: 2 \t Raiz: 6.25 \t Erro: 0.024218862532411636\n"
          ]
        }
      ],
      "source": [
        "error2 = []\n",
        "raizes2 =[]\n",
        "\n",
        "for i in range(1,5):\n",
        "    if (i <= 3):\n",
        "        raiz = opt.root_scalar(f,method='bisect',bracket=[5,10], maxiter=i).root\n",
        "        raizes2.append(raiz)\n",
        "        error2.append(np.absolute(6.405124837953327 - raiz)/6.405124837953327)\n",
        "\n",
        "for i in range(len(erros)):\n",
        "    print(f'Iteração: {i} \\t Raiz: {raizes2[i]} \\t Erro: {error2[i]}')"
      ]
    },
    {
      "cell_type": "markdown",
      "metadata": {
        "id": "-ONj_9Q0sY6_"
      },
      "source": [
        "# Questão 3"
      ]
    },
    {
      "cell_type": "code",
      "execution_count": 15,
      "metadata": {
        "colab": {
          "base_uri": "https://localhost:8080/",
          "height": 265
        },
        "id": "wYUPFAMWsY7A",
        "outputId": "5f3fe5c5-bba8-4743-dd15-6e73bb4230ef"
      },
      "outputs": [
        {
          "output_type": "display_data",
          "data": {
            "image/png": "[encoded data removed]",
            "text/plain": [
              "<Figure size 432x288 with 1 Axes>"
            ]
          },
          "metadata": {
            "needs_background": "light"
          }
        }
      ],
      "source": [
        "f = lambda x: np.sin(x) - x**3 \n",
        "x = np.linspace(-np.pi, np.pi, 200)\n",
        "x2 = f(x)\n",
        "r1= opt.root(f, -2)\n",
        "r2 = opt.root(f, 7)\n",
        "mon = np.array([r1.x, r2.x])\n",
        "fig = plt.figure()\n",
        "a = fig.add_subplot()\n",
        "plt.plot(x, x2)\n",
        "a.plot(mon, f(mon), 'o')\n",
        "plt.grid(ls=':')"
      ]
    },
    {
      "cell_type": "markdown",
      "metadata": {
        "id": "qiF7BfjPsY7C"
      },
      "source": [
        "# Questão 4"
      ]
    },
    {
      "cell_type": "code",
      "execution_count": 13,
      "metadata": {
        "colab": {
          "base_uri": "https://localhost:8080/"
        },
        "id": "3ct4WiROsY7D",
        "outputId": "d7c4e6e5-f9a9-4fea-d2bf-2d82362446a4"
      },
      "outputs": [
        {
          "output_type": "stream",
          "name": "stdout",
          "text": [
            "-12*x**5 - 6.0*x**3 + 10\n",
            "0.84375\n"
          ]
        }
      ],
      "source": [
        "#f (x) = −2x6 − 1.5x4 + 10x + 20\n",
        "f = lambda x: (-2*x**6) - (1.5*x**4) + (10*x) + 20\n",
        "x = Symbol('x')\n",
        "y = (-2*x**6) - (1.5*x**4) + (10*x) + 20\n",
        "der = y.diff(x)\n",
        "y1 = lambda x: (-12*x**5) - (6*x**3) + 10\n",
        "print(der)\n",
        "print(bissecao(y1, 0, 1, 0.05))"
      ]
    },
    {
      "cell_type": "markdown",
      "metadata": {
        "id": "EGyzJtCqsY7F"
      },
      "source": [
        "# Questão 5"
      ]
    },
    {
      "cell_type": "code",
      "execution_count": 14,
      "metadata": {
        "colab": {
          "base_uri": "https://localhost:8080/"
        },
        "id": "okoHivhJsY7G",
        "outputId": "c1c4a661-b47f-421e-88d1-df8ed0b035ce"
      },
      "outputs": [
        {
          "output_type": "stream",
          "name": "stdout",
          "text": [
            "1.319641167181544\n",
            "1.3196411670137347\n"
          ]
        },
        {
          "output_type": "stream",
          "name": "stderr",
          "text": [
            "/usr/local/lib/python3.7/dist-packages/ipykernel_launcher.py:21: RuntimeWarning: divide by zero encountered in double_scalars\n"
          ]
        }
      ],
      "source": [
        "def interp(f, xi, xs, tol=1e-10):\n",
        "    i = 0;\n",
        "    inf = (f(xi))\n",
        "    sup = (f(xs))\n",
        "    if (inf * sup >= 0):\n",
        "        return -1\n",
        "    erro, x_ant = 1, xi\n",
        "    while (erro > tol):        \n",
        "        x = xs - ( ( f(xs)*(xi-xs) ) / (f(xi)-f(xs)))\n",
        "        if ((f(x) * f(xi)) < 0):\n",
        "            xs = x\n",
        "        else: xi = x\n",
        "        i += 1\n",
        "        erro = np.abs((x - x_ant)/np.abs(x))\n",
        "        x_ant = x\n",
        "    return x\n",
        "\n",
        "f = lambda x: ( x**5+2*x**3-5*x-2 )\n",
        "\n",
        "print(bissecao(f, -2, 2))\n",
        "print(interp(f, -2, 2))"
      ]
    }
  ],
  "metadata": {
    "kernelspec": {
      "display_name": "Python 3",
      "language": "python",
      "name": "python3"
    },
    "language_info": {
      "codemirror_mode": {
        "name": "ipython",
        "version": 3
      },
      "file_extension": ".py",
      "mimetype": "text/x-python",
      "name": "python",
      "nbconvert_exporter": "python",
      "pygments_lexer": "ipython3",
      "version": "3.7.6"
    },
    "colab": {
      "name": "Lista4METODOS.ipynb",
      "provenance": []
    }
  },
  "nbformat": 4,
  "nbformat_minor": 0
}