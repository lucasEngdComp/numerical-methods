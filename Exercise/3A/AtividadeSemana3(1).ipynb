{
  "nbformat": 4,
  "nbformat_minor": 0,
  "metadata": {
    "colab": {
      "name": "AtividadeSemana3.ipynb",
      "provenance": []
    },
    "kernelspec": {
      "name": "python3",
      "display_name": "Python 3"
    },
    "language_info": {
      "name": "python"
    }
  },
  "cells": [
    {
      "cell_type": "markdown",
      "metadata": {
        "id": "61qbenRDoEig"
      },
      "source": [
        "#1.1 "
      ]
    },
    {
      "cell_type": "code",
      "metadata": {
        "id": "reo0vpRHzUq9"
      },
      "source": [
        "#1.1 \n",
        "import numpy as np\n",
        "\n",
        "aux = [] #storage\n",
        "\n",
        "def DivMed(qt,a):\n",
        "  xi = 1 # start in 1\n",
        "  for k in range(qt):\n",
        "    x = (xi + a/xi)/2 #function\n",
        "    k+=1\n",
        "    aux.append(x)\n",
        "  print(aux)\n",
        "\n",
        "#erro relativo se dá por: \n",
        "#|x0 - x1| / |x0| \n",
        "def calculateRelativeError(aux):\n",
        "  listErrorRelative = []\n",
        "  for j in aux:\n",
        "    relativeError = np.trunc(j) #aproximando o valor\n",
        "    aprox =  (( j - relativeError)/np.abs(j))\n",
        "    listErrorRelative.append(aprox)\n",
        "  print(listErrorRelative)"
      ],
      "execution_count": null,
      "outputs": []
    },
    {
      "cell_type": "code",
      "metadata": {
        "id": "DabGP8nUQWGM"
      },
      "source": [
        ""
      ],
      "execution_count": null,
      "outputs": []
    },
    {
      "cell_type": "markdown",
      "metadata": {
        "id": "ktZnRGkioCBR"
      },
      "source": [
        "#1.2"
      ]
    },
    {
      "cell_type": "code",
      "metadata": {
        "id": "tmqJcsBLWgPU"
      },
      "source": [
        "#1.2\n",
        "e = 1\n",
        "while (1+e<=1):\n",
        "  if (1+ e <= 1):\n",
        "    e = 2 * e\n",
        "  else:\n",
        "    e = e/2\n",
        "  print(e)\n"
      ],
      "execution_count": null,
      "outputs": []
    },
    {
      "cell_type": "code",
      "metadata": {
        "colab": {
          "base_uri": "https://localhost:8080/"
        },
        "id": "l6jKnhYIYqe5",
        "outputId": "7ffd6874-6864-41ec-9de8-8fc6ee117fa4"
      },
      "source": [
        "# Com laço de repetição\n",
        "e = 1\n",
        "for k in range(100):\n",
        "  if (1+ e <= 1):\n",
        "    e = 2 * e\n",
        "  else:\n",
        "    e = e/2\n",
        "  print(e)\n"
      ],
      "execution_count": null,
      "outputs": [
        {
          "output_type": "stream",
          "name": "stdout",
          "text": [
            "0.5\n",
            "0.25\n",
            "0.125\n",
            "0.0625\n",
            "0.03125\n",
            "0.015625\n",
            "0.0078125\n",
            "0.00390625\n",
            "0.001953125\n",
            "0.0009765625\n",
            "0.00048828125\n",
            "0.000244140625\n",
            "0.0001220703125\n",
            "6.103515625e-05\n",
            "3.0517578125e-05\n",
            "1.52587890625e-05\n",
            "7.62939453125e-06\n",
            "3.814697265625e-06\n",
            "1.9073486328125e-06\n",
            "9.5367431640625e-07\n",
            "4.76837158203125e-07\n",
            "2.384185791015625e-07\n",
            "1.1920928955078125e-07\n",
            "5.960464477539063e-08\n",
            "2.9802322387695312e-08\n",
            "1.4901161193847656e-08\n",
            "7.450580596923828e-09\n",
            "3.725290298461914e-09\n",
            "1.862645149230957e-09\n",
            "9.313225746154785e-10\n",
            "4.656612873077393e-10\n",
            "2.3283064365386963e-10\n",
            "1.1641532182693481e-10\n",
            "5.820766091346741e-11\n",
            "2.9103830456733704e-11\n",
            "1.4551915228366852e-11\n",
            "7.275957614183426e-12\n",
            "3.637978807091713e-12\n",
            "1.8189894035458565e-12\n",
            "9.094947017729282e-13\n",
            "4.547473508864641e-13\n",
            "2.2737367544323206e-13\n",
            "1.1368683772161603e-13\n",
            "5.684341886080802e-14\n",
            "2.842170943040401e-14\n",
            "1.4210854715202004e-14\n",
            "7.105427357601002e-15\n",
            "3.552713678800501e-15\n",
            "1.7763568394002505e-15\n",
            "8.881784197001252e-16\n",
            "4.440892098500626e-16\n",
            "2.220446049250313e-16\n",
            "1.1102230246251565e-16\n",
            "2.220446049250313e-16\n",
            "1.1102230246251565e-16\n",
            "2.220446049250313e-16\n",
            "1.1102230246251565e-16\n",
            "2.220446049250313e-16\n",
            "1.1102230246251565e-16\n",
            "2.220446049250313e-16\n",
            "1.1102230246251565e-16\n",
            "2.220446049250313e-16\n",
            "1.1102230246251565e-16\n",
            "2.220446049250313e-16\n",
            "1.1102230246251565e-16\n",
            "2.220446049250313e-16\n",
            "1.1102230246251565e-16\n",
            "2.220446049250313e-16\n",
            "1.1102230246251565e-16\n",
            "2.220446049250313e-16\n",
            "1.1102230246251565e-16\n",
            "2.220446049250313e-16\n",
            "1.1102230246251565e-16\n",
            "2.220446049250313e-16\n",
            "1.1102230246251565e-16\n",
            "2.220446049250313e-16\n",
            "1.1102230246251565e-16\n",
            "2.220446049250313e-16\n",
            "1.1102230246251565e-16\n",
            "2.220446049250313e-16\n",
            "1.1102230246251565e-16\n",
            "2.220446049250313e-16\n",
            "1.1102230246251565e-16\n",
            "2.220446049250313e-16\n",
            "1.1102230246251565e-16\n",
            "2.220446049250313e-16\n",
            "1.1102230246251565e-16\n",
            "2.220446049250313e-16\n",
            "1.1102230246251565e-16\n",
            "2.220446049250313e-16\n",
            "1.1102230246251565e-16\n",
            "2.220446049250313e-16\n",
            "1.1102230246251565e-16\n",
            "2.220446049250313e-16\n",
            "1.1102230246251565e-16\n",
            "2.220446049250313e-16\n",
            "1.1102230246251565e-16\n",
            "2.220446049250313e-16\n",
            "1.1102230246251565e-16\n",
            "2.220446049250313e-16\n"
          ]
        }
      ]
    },
    {
      "cell_type": "code",
      "metadata": {
        "id": "GNkqJaSuX8DH"
      },
      "source": [
        "#teste\n",
        "def machineEpsilon(func=float):\n",
        "    machine_epsilon = func(1)\n",
        "    while func(1)+func(machine_epsilon) != func(1):\n",
        "        machine_epsilon_last = machine_epsilon\n",
        "        machine_epsilon = func(machine_epsilon) / func(2)\n",
        "    return machine_epsilon_last"
      ],
      "execution_count": null,
      "outputs": []
    },
    {
      "cell_type": "code",
      "metadata": {
        "colab": {
          "base_uri": "https://localhost:8080/"
        },
        "id": "EJR_XimvYSRV",
        "outputId": "236d43bb-7633-4cd8-f313-9d29535df68c"
      },
      "source": [
        "machineEpsilon(np.float16)"
      ],
      "execution_count": null,
      "outputs": [
        {
          "output_type": "execute_result",
          "data": {
            "text/plain": [
              "0.000977"
            ]
          },
          "metadata": {},
          "execution_count": 30
        }
      ]
    },
    {
      "cell_type": "code",
      "metadata": {
        "colab": {
          "base_uri": "https://localhost:8080/"
        },
        "id": "_J6ta1N2YpUn",
        "outputId": "35bf0126-b963-4f2d-babe-62fa9f59e26e"
      },
      "source": [
        "#Usando o numpy para pegar o epsilon da máquina\n",
        "np.finfo(float(1))"
      ],
      "execution_count": null,
      "outputs": [
        {
          "output_type": "execute_result",
          "data": {
            "text/plain": [
              "finfo(resolution=1e-15, min=-1.7976931348623157e+308, max=1.7976931348623157e+308, dtype=float64)"
            ]
          },
          "metadata": {},
          "execution_count": 31
        }
      ]
    },
    {
      "cell_type": "markdown",
      "metadata": {
        "id": "2ypBp_48n_zW"
      },
      "source": [
        "#1.3"
      ]
    },
    {
      "cell_type": "code",
      "metadata": {
        "id": "ZlCALuMOaqnX"
      },
      "source": [
        "#1.3\n",
        "def converge(n):\n",
        "  lista = [1/3]\n",
        "  for k in range(n):\n",
        "    j = (4*lista[-1]) - 1\n",
        "    lista.append(j)\n",
        "  print(lista)"
      ],
      "execution_count": null,
      "outputs": []
    },
    {
      "cell_type": "code",
      "metadata": {
        "colab": {
          "base_uri": "https://localhost:8080/"
        },
        "id": "6NKMQBW6V3Gv",
        "outputId": "50f65b03-768d-48c6-f51b-bfc0e1684d4f"
      },
      "source": [
        "converge(5)"
      ],
      "execution_count": null,
      "outputs": [
        {
          "output_type": "stream",
          "name": "stdout",
          "text": [
            "[0.3333333333333333, 0.33333333333333326, 0.33333333333333304, 0.33333333333333215, 0.3333333333333286, 0.3333333333333144]\n"
          ]
        }
      ]
    },
    {
      "cell_type": "markdown",
      "metadata": {
        "id": "EEe0U6YAfG9G"
      },
      "source": [
        "# A série iterativa sempre irá divergir com variações muito pequenas.\n",
        "Para n = 5 termos: [0.3333333333333333, 0.33333333333333326, 0.33333333333333304, 0.33333333333333215, 0.3333333333333286, 0.3333333333333144]."
      ]
    },
    {
      "cell_type": "markdown",
      "metadata": {
        "id": "772Jz17mn7Jl"
      },
      "source": [
        "#1.4"
      ]
    },
    {
      "cell_type": "code",
      "metadata": {
        "id": "2ZJVhADqelL5"
      },
      "source": [
        "#1.4\n",
        "def expi(u):\n",
        "  if u > 0:\n",
        "    x = (1/u)\n",
        "    j = np.exp(x)\n",
        "    k = (j / (1 + j))\n",
        "    print(k)"
      ],
      "execution_count": null,
      "outputs": []
    },
    {
      "cell_type": "code",
      "metadata": {
        "colab": {
          "base_uri": "https://localhost:8080/"
        },
        "id": "8W-dLy9WlW3g",
        "outputId": "87ba930a-05e3-4f11-ad92-3750d906f81f"
      },
      "source": [
        "expi(0.001)"
      ],
      "execution_count": null,
      "outputs": [
        {
          "output_type": "stream",
          "name": "stdout",
          "text": [
            "nan\n"
          ]
        },
        {
          "output_type": "stream",
          "name": "stderr",
          "text": [
            "/usr/local/lib/python3.7/dist-packages/ipykernel_launcher.py:5: RuntimeWarning: overflow encountered in exp\n",
            "  \"\"\"\n",
            "/usr/local/lib/python3.7/dist-packages/ipykernel_launcher.py:6: RuntimeWarning: invalid value encountered in double_scalars\n",
            "  \n"
          ]
        }
      ]
    },
    {
      "cell_type": "markdown",
      "metadata": {
        "id": "aEXvoEpBp7Ju"
      },
      "source": [
        ""
      ]
    },
    {
      "cell_type": "code",
      "metadata": {
        "id": "InaFmVAjlnQQ"
      },
      "source": [
        "def expa(w):\n",
        "  if w > 0:\n",
        "    y = (-1/w)\n",
        "    g = np.exp(y)\n",
        "    o = (1/ (g+1))\n",
        "    print(o)"
      ],
      "execution_count": null,
      "outputs": []
    },
    {
      "cell_type": "code",
      "metadata": {
        "colab": {
          "base_uri": "https://localhost:8080/"
        },
        "id": "oReWeFe0mLSk",
        "outputId": "58ab1d89-2b2f-41ab-c904-3db8ec8e5a01"
      },
      "source": [
        "expa(0.001)"
      ],
      "execution_count": null,
      "outputs": [
        {
          "output_type": "stream",
          "name": "stdout",
          "text": [
            "1.0\n"
          ]
        }
      ]
    },
    {
      "cell_type": "markdown",
      "metadata": {
        "id": "CaumHiqytDJ7"
      },
      "source": [
        "A valor da expressão 1 dá um overflow, por isso não conseguimos utilizar valores pequenos na primeira expressão."
      ]
    },
    {
      "cell_type": "markdown",
      "metadata": {
        "id": "3yDXcAsCm42d"
      },
      "source": [
        "#1.5"
      ]
    },
    {
      "cell_type": "code",
      "metadata": {
        "id": "jvEaTsgdmQW6"
      },
      "source": [
        "p1 = 10**(-12)\n",
        "p2 = 10**(-15)\n",
        "p3 = 10**(-17)\n",
        "\n",
        "def expi(x):\n",
        "  exps = ((1+x) - 1) / x\n",
        "  return(exps)"
      ],
      "execution_count": null,
      "outputs": []
    },
    {
      "cell_type": "code",
      "metadata": {
        "colab": {
          "base_uri": "https://localhost:8080/",
          "height": 36
        },
        "id": "sv4ZTXpu7vlE",
        "outputId": "59f65459-067c-4667-c92a-2409c99ad813"
      },
      "source": [
        "np.format_float_scientific(expi(p1))"
      ],
      "execution_count": null,
      "outputs": [
        {
          "output_type": "execute_result",
          "data": {
            "application/vnd.google.colaboratory.intrinsic+json": {
              "type": "string"
            },
            "text/plain": [
              "'1.000088900582341e+00'"
            ]
          },
          "metadata": {},
          "execution_count": 44
        }
      ]
    },
    {
      "cell_type": "code",
      "metadata": {
        "colab": {
          "base_uri": "https://localhost:8080/",
          "height": 36
        },
        "id": "p1leiJIY7w2r",
        "outputId": "66691536-550b-422d-feed-0c61a203ce89"
      },
      "source": [
        "np.format_float_scientific(expi(p2))"
      ],
      "execution_count": null,
      "outputs": [
        {
          "output_type": "execute_result",
          "data": {
            "application/vnd.google.colaboratory.intrinsic+json": {
              "type": "string"
            },
            "text/plain": [
              "'1.1102230246251565e+00'"
            ]
          },
          "metadata": {},
          "execution_count": 45
        }
      ]
    },
    {
      "cell_type": "code",
      "metadata": {
        "colab": {
          "base_uri": "https://localhost:8080/",
          "height": 36
        },
        "id": "nOFHC6iI7Y1U",
        "outputId": "3ea1b3ab-c3a9-42ea-c593-65950c59d062"
      },
      "source": [
        "np.format_float_scientific(expi(p3))"
      ],
      "execution_count": null,
      "outputs": [
        {
          "output_type": "execute_result",
          "data": {
            "application/vnd.google.colaboratory.intrinsic+json": {
              "type": "string"
            },
            "text/plain": [
              "'0.e+00'"
            ]
          },
          "metadata": {},
          "execution_count": 46
        }
      ]
    },
    {
      "cell_type": "markdown",
      "metadata": {
        "id": "Dl3yFkCk8Etn"
      },
      "source": [
        "x = 10**−17 ( no código o p3 = 10**(-17) , gera um underflow. Quando tentamos representar um valor muito pequeno esse erro acontece.)"
      ]
    }
  ]
}