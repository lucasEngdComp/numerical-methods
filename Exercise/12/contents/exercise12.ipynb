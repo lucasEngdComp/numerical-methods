{
  "cells": [
    {
      "cell_type": "code",
      "execution_count": 1,
      "metadata": {
        "id": "wf8-zfMZ0XKz"
      },
      "outputs": [],
      "source": [
        "\n",
        "import numpy as np\n",
        "import scipy.linalg as sla"
      ]
    },
    {
      "cell_type": "code",
      "execution_count": 2,
      "metadata": {
        "id": "oqrZY-3VaOau"
      },
      "outputs": [],
      "source": [
        "#Como os dois sistemas são triangulares, e nós já implementamos, em aulas anteriores, \n",
        "# funções para resolver esses sistemas, basta, então, construir um implementação integrando \n",
        "# todas as \"partes\" do processo. Considerando que usaremos essas mesmas funções já implementadas, \n",
        "# `sist_lin_tri_sup()` e `sist_lin_tri_inf()`, o algoritmo a seguir descreve isso\n",
        "\n",
        "def sist_lin_tri_inf(A,b):\n",
        "  n = len(b)\n",
        "  x = np.empty(n)\n",
        "  x[0] = b[0]/A[0, 0]\n",
        "  for i in range(1,n):\n",
        "    x[i] = (b[i] - np.sum(A[i,:i]*x[:i]))/A[i,i]\n",
        "  return x\n"
      ]
    },
    {
      "cell_type": "code",
      "execution_count": 3,
      "metadata": {
        "id": "V5yLRz4eGClJ"
      },
      "outputs": [],
      "source": [
        "def sist_lin_tri_sup(A,b):\n",
        "  n = len(b)\n",
        "  x = np.empty(n)\n",
        "  x[-1] = b[-1]/A[-1, -1]\n",
        "  for i in range(n-2, -1, -1):\n",
        "   x[i] = (b[i] - np.sum(A[i,i+1:]*x[i+1:]))/A[i,i]\n",
        "  return x\n"
      ]
    },
    {
      "cell_type": "code",
      "execution_count": 4,
      "metadata": {
        "id": "8I15qkqAzoOV"
      },
      "outputs": [],
      "source": [
        "def decomposicao_doolittle(A):\n",
        "    n = len(A)\n",
        "    coeficientes = []\n",
        "    P = np.identity(n, dtype=np.double)\n",
        "    L = np.identity(n, dtype=np.double)\n",
        "    U = A.copy()\n",
        "\n",
        "    for i in range(n):\n",
        "        pivot = np.abs(U[i:, i]).argmax() + i\n",
        "        if i != pivot:\n",
        "            P[[i, pivot]] = P[[pivot, i]]\n",
        "\n",
        "    U = P @ A\n",
        "  \n",
        "    for i in range(n):\n",
        "        for j in range(i + 1, n):\n",
        "            fator = U[j, i] / U[i, i]\n",
        "            L[j, i] = fator\n",
        "            U[j] = U[j] - (fator * U[i])\n",
        "\n",
        "    return P, L, U"
      ]
    },
    {
      "cell_type": "code",
      "execution_count": 5,
      "metadata": {
        "id": "7qAvrzVSAb41"
      },
      "outputs": [],
      "source": [
        "def find(P, L, U, b):\n",
        "  vetor1= sist_lin_tri_inf(L, P @ b)\n",
        "  vetor2= sist_lin_tri_sup(U, vetor2)\n",
        "\n",
        "  return vetor1"
      ]
    },
    {
      "cell_type": "markdown",
      "metadata": {
        "id": "hHCfoH4_rET6"
      },
      "source": [
        "#### A)"
      ]
    },
    {
      "cell_type": "code",
      "execution_count": 6,
      "metadata": {
        "colab": {
          "base_uri": "https://localhost:8080/"
        },
        "id": "mN_fKYRdGPES",
        "outputId": "bc17b123-7159-413e-b142-dd0fbcc44186"
      },
      "outputs": [
        {
          "data": {
            "text/plain": [
              "array([[ 1.,  1.,  1.],\n",
              "       [ 4.,  4.,  2.],\n",
              "       [ 2.,  1., -1.]])"
            ]
          },
          "execution_count": 6,
          "metadata": {},
          "output_type": "execute_result"
        }
      ],
      "source": [
        "A = np.array([[1,1,1], [4,4,2], [2,1,-1]],  dtype=float)\n",
        "A"
      ]
    },
    {
      "cell_type": "code",
      "execution_count": 7,
      "metadata": {
        "colab": {
          "base_uri": "https://localhost:8080/"
        },
        "id": "hl4wPU-AGhUi",
        "outputId": "0ac69a35-37a8-4ba8-8cf3-85d6375cf8b4"
      },
      "outputs": [
        {
          "data": {
            "text/plain": [
              "array([1., 2., 0.])"
            ]
          },
          "execution_count": 7,
          "metadata": {},
          "output_type": "execute_result"
        }
      ],
      "source": [
        "b = np.array([1,2,0],  dtype=float)\n",
        "b"
      ]
    },
    {
      "cell_type": "code",
      "execution_count": null,
      "metadata": {
        "colab": {
          "base_uri": "https://localhost:8080/"
        },
        "id": "rbD9L_t-HHiT",
        "outputId": "4174ccd4-1d23-45b6-bf0a-95166983e733"
      },
      "outputs": [],
      "source": [
        "P,L,U = sla.lu(A)\n",
        "print(f\"\\n{P};\\n -L:\\n {L}\\n; -U:\\n {U}\\n\\n\")\n",
        "LU, piv = sla.lu_factor(A)\n",
        "\n",
        "lu, piv = sla.lu_factor(A)\n",
        "sla.lu_solve((lu, piv), b)\n",
        "\n",
        "print(f\" {sla.lu_solve((lu, piv), b)} \\n\")\n",
        "\n",
        "\n",
        "P,L,U = decomposicao_doolittle(A)\n",
        "print(f\"\\n-P:\\n{P};\\n -L:{L};\\n -U:\\n {U}\\n\\n\")\n",
        "print(f\"{find(P, L, U, b)} \\n\")\n"
      ]
    },
    {
      "cell_type": "markdown",
      "metadata": {
        "id": "RhfG0yGuiwlo"
      },
      "source": [
        "#### B)"
      ]
    },
    {
      "cell_type": "code",
      "execution_count": 9,
      "metadata": {
        "colab": {
          "base_uri": "https://localhost:8080/"
        },
        "id": "8PoQkEY9izpF",
        "outputId": "cf3c2f7b-3408-4f72-81ec-e719573a65b0"
      },
      "outputs": [
        {
          "data": {
            "text/plain": [
              "array([[  7.,  -7.,   1.],\n",
              "       [ -3.,   3.,   2.],\n",
              "       [  7.,   7., -72.]])"
            ]
          },
          "execution_count": 9,
          "metadata": {},
          "output_type": "execute_result"
        }
      ],
      "source": [
        "A = np.array([[7,-7,1], [-3,3,2], [7,7,-72]],  dtype=float)\n",
        "A"
      ]
    },
    {
      "cell_type": "code",
      "execution_count": 10,
      "metadata": {
        "colab": {
          "base_uri": "https://localhost:8080/"
        },
        "id": "AVGYyn_Pi0H8",
        "outputId": "07a6bdb4-6e05-4feb-b8e7-5537f6dbf495"
      },
      "outputs": [
        {
          "data": {
            "text/plain": [
              "array([1., 2., 7.])"
            ]
          },
          "execution_count": 10,
          "metadata": {},
          "output_type": "execute_result"
        }
      ],
      "source": [
        "b = np.array([1,2,7],  dtype=float)\n",
        "b"
      ]
    },
    {
      "cell_type": "code",
      "execution_count": null,
      "metadata": {
        "colab": {
          "base_uri": "https://localhost:8080/"
        },
        "id": "peTLn-c1itKY",
        "outputId": "9496962d-a96f-43f5-8944-29ccfce1ae11"
      },
      "outputs": [],
      "source": [
        "P,L,U = sla.lu(A)\n",
        "print(f\"\\n{P};\\n -L:\\n {L}\\n; -U:\\n {U}\\n\\n\")\n",
        "LU, piv = sla.lu_factor(A)\n",
        "\n",
        "lu, piv = sla.lu_factor(A)\n",
        "sla.lu_solve((lu, piv), b)\n",
        "\n",
        "print(f\" {sla.lu_solve((lu, piv), b)} \\n\")\n",
        "\n",
        "\n",
        "P,L,U = decomposicao_doolittle(A)\n",
        "print(f\" \\n-P:\\n{P};\\n -L:{L};\\n -U:\\n {U}\\n\\n\")\n",
        "print(f\"{find(P, L, U, b)} \\n\")\n"
      ]
    },
    {
      "cell_type": "markdown",
      "metadata": {
        "id": "hD0zARz8vLYP"
      },
      "source": [
        "#### C)"
      ]
    },
    {
      "cell_type": "code",
      "execution_count": 12,
      "metadata": {
        "colab": {
          "base_uri": "https://localhost:8080/"
        },
        "id": "y9w0itjyvLK-",
        "outputId": "7925ff0f-fdfa-4e7d-d673-fe4f40da904c"
      },
      "outputs": [
        {
          "data": {
            "text/plain": [
              "array([[1., 2., 3., 4.],\n",
              "       [2., 2., 3., 4.],\n",
              "       [3., 3., 3., 4.],\n",
              "       [4., 4., 4., 4.]])"
            ]
          },
          "execution_count": 12,
          "metadata": {},
          "output_type": "execute_result"
        }
      ],
      "source": [
        "A = np.array([[1,2,3,4], [2,2,3,4], [3,3,3,4], [4,4,4,4]],  dtype=float)\n",
        "A"
      ]
    },
    {
      "cell_type": "code",
      "execution_count": 13,
      "metadata": {
        "colab": {
          "base_uri": "https://localhost:8080/"
        },
        "id": "Hy-doYXEvFrH",
        "outputId": "696c5734-72c3-49b6-97f5-98a1116e280d"
      },
      "outputs": [
        {
          "data": {
            "text/plain": [
              "array([20., 22., 22., 24.])"
            ]
          },
          "execution_count": 13,
          "metadata": {},
          "output_type": "execute_result"
        }
      ],
      "source": [
        "b = np.array([20,22,22,24],  dtype=float)\n",
        "b"
      ]
    },
    {
      "cell_type": "code",
      "execution_count": null,
      "metadata": {
        "colab": {
          "base_uri": "https://localhost:8080/"
        },
        "id": "NXIm0K2DjJBf",
        "outputId": "3d9bae70-b30d-43b1-880f-1162a79437f6"
      },
      "outputs": [],
      "source": [
        "P,L,U = sla.lu(A)\n",
        "print(f\"\\n{P};\\n -L:\\n {L}\\n; -U:\\n {U}\\n\\n\")\n",
        "LU, piv = sla.lu_factor(A)\n",
        "\n",
        "lu, piv = sla.lu_factor(A)\n",
        "sla.lu_solve((lu, piv), b)\n",
        "\n",
        "print(f\"{sla.lu_solve((lu, piv), b)} \\n\")\n",
        "\n",
        "\n",
        "P,L,U = decomposicao_doolittle(A)\n",
        "print(f\"\\n-P:\\n{P};\\n -L:{L};\\n -U:\\n {U}\\n\\n\")\n",
        "print(f\"{find(P, L, U, b)} \\n\")\n"
      ]
    }
  ],
  "metadata": {
    "colab": {
      "collapsed_sections": [],
      "name": "Lista_12_Decomposicao LU_Elismar_Silva_Pereira.ipynb",
      "provenance": []
    },
    "kernelspec": {
      "display_name": "Python 3",
      "name": "python3"
    },
    "language_info": {
      "name": "python"
    }
  },
  "nbformat": 4,
  "nbformat_minor": 0
}
