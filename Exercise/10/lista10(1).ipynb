{
  "cells": [
    {
      "cell_type": "code",
      "execution_count": null,
      "metadata": {
        "id": "Ek-fJzsAZJFE"
      },
      "outputs": [],
      "source": [
        "import numpy as np\n",
        "import scipy.linalg as sla"
      ]
    },
    {
      "cell_type": "markdown",
      "metadata": {
        "id": "oAffQTaTZJFJ"
      },
      "source": [
        "# Exercício 1.1\n",
        "a -"
      ]
    },
    {
      "cell_type": "code",
      "execution_count": null,
      "metadata": {
        "id": "LdcT7zIoZJFR",
        "outputId": "325932f8-9ed6-4aef-c567-10f2c34d08e2"
      },
      "outputs": [
        {
          "name": "stdout",
          "output_type": "stream",
          "text": [
            "2\n",
            "2\n",
            "3\n"
          ]
        }
      ],
      "source": [
        "A = np.array([[1, 2, 3], [4, 5, 6], [7, 8, 9]])\n",
        "b = np.array([1, 1, 1])\n",
        "print(np.linalg.matrix_rank(A))\n",
        "print(np.linalg.matrix_rank(np.c_[A, b]))\n",
        "print(A.shape[1])"
      ]
    },
    {
      "cell_type": "markdown",
      "metadata": {
        "id": "7gV1INWXZJFX"
      },
      "source": [
        "b - "
      ]
    },
    {
      "cell_type": "code",
      "execution_count": null,
      "metadata": {
        "id": "kSketyRDZJFY",
        "outputId": "2a23927c-d5cf-491b-917e-8df284a93592"
      },
      "outputs": [
        {
          "name": "stdout",
          "output_type": "stream",
          "text": [
            "1\n",
            "2\n",
            "2\n"
          ]
        }
      ],
      "source": [
        "A = np.array([[2, 3], [-4, -6]])\n",
        "b = np.array([10, -10])\n",
        "print(np.linalg.matrix_rank(A))\n",
        "print(np.linalg.matrix_rank(np.c_[A, b]))\n",
        "print(A.shape[1])"
      ]
    },
    {
      "cell_type": "markdown",
      "metadata": {
        "id": "jSZvTpvuZJFZ"
      },
      "source": [
        "# Exercício 1.2"
      ]
    },
    {
      "cell_type": "code",
      "execution_count": null,
      "metadata": {
        "id": "Kv4kZpXEZJFf"
      },
      "outputs": [],
      "source": [
        "def sist_lin_tri_sup(A,b):\n",
        "    n = len(b)\n",
        "    x = np.empty(n)\n",
        "    x[-1] = b[-1]/A[-1, -1]\n",
        "    \n",
        "    print(\"Icógnita com maior indice: \", b[-1], \"/\", A[-1, -1])\n",
        "    print(\"Resultado: \", x[-1])    \n",
        "    for i in range(n-2, -1, -1):\n",
        "        x[i] = (b[i] - np.sum(A[i,i+1:]*x[i+1:]))/A[i,i]\n",
        "        \n",
        "        print(\"Calculando a icógnita: \", \": \", \"(\",b[i], \"-\", \"sum(\",A[i,i+1:],\"*\",x[i+1:],\")\",\"/\",A[i,i])\n",
        "        print(\"Resultado: \", x[i])\n",
        "        \n",
        "    return x\n",
        "\n",
        "A = np.array([[3,4,-5,1],[0,1,1,-2],[0,0,4,-5],[0,0,0,2]])\n",
        "b = np.array([-10,-1,3,2])\n",
        "\n",
        "x = sist_lin_tri_sup(A,b)\n",
        "\n",
        "print(x)\n",
        "print()\n",
        "print(A.dot(x))\n"
      ]
    },
    {
      "cell_type": "markdown",
      "metadata": {
        "id": "_GL_Tvq_ZJFk"
      },
      "source": [
        "# Exercício 1.3"
      ]
    },
    {
      "cell_type": "code",
      "execution_count": null,
      "metadata": {
        "id": "9hSMRW2YZJFq"
      },
      "outputs": [],
      "source": [
        "def sist_lin_tri_inf(A,b):\n",
        "    n = len(b)\n",
        "    \n",
        "    #Cria a martiz do tamanho do array b\n",
        "    x = np.empty(n)\n",
        "    \n",
        "    #Calculo da icognita de menor indice \n",
        "    x[0] = b[0]/A[0, 0]\n",
        "    print(\"Icógnita de menor indice: \", b[0],\"/\",A[0, 0])\n",
        "    print(\"Resultado: \", x[0])\n",
        "\n",
        "    \n",
        "    \n",
        "    for i in range(1,n):\n",
        "        x[i] = (b[i] - np.sum(A[i,:i]*x[:i]))/A[i,i]\n",
        "        print(\"Calculando a incógnita: \", \"(\",b[i], \"-\", \"sum(\",A[i,:i],\"*\",x[:i],\")\",\"/\",A[i,i])\n",
        "        print(\"Resultado: \", x[i])\n",
        "        \n",
        "    return x\n",
        "\n",
        "A = np.array([[3,0,0,0],[2,1,0,0],[1,0,1,0],[1,1,1,1]])\n",
        "b = np.array([4,2,4,2])\n",
        "\n",
        "x = sist_lin_tri_inf(A,b)\n",
        "\n",
        "print(x)\n",
        "print()\n",
        "print(A.dot(x))\n"
      ]
    },
    {
      "cell_type": "markdown",
      "metadata": {
        "id": "lN2qwnY2ZJFy"
      },
      "source": [
        "# Execício 1.4"
      ]
    },
    {
      "cell_type": "code",
      "execution_count": null,
      "metadata": {
        "id": "6ne1tha0ZJF0"
      },
      "outputs": [],
      "source": [
        "def sist_lin_diagonal(A,b): return b/A.diagonal()\n",
        "\n",
        "def verificar_matriz(A,b):\n",
        "\n",
        "    sup = True\n",
        "    inf = True\n",
        "\n",
        "    for i in range(A.shape[0]):\n",
        "        for j in range(i+1, A.shape[1]):\n",
        "            if A[i,j] != 0:\n",
        "                inf = False\n",
        "\n",
        "    for i in range(1, A.shape[0]):\n",
        "        for j in range(0, i):\n",
        "            if A[i,j] != 0:\n",
        "                sup = False\n",
        "\n",
        "    if sup and inf:\n",
        "        print('\\033[1m', \"Matriz linear Diagonal\", '\\033[0m')\n",
        "        print()\n",
        "        return sist_lin_diagonal(A,b)\n",
        "    \n",
        "    else:\n",
        "        if sup:\n",
        "            print('\\033[1m', \"Matriz triangular superior\", '\\033[0m')\n",
        "            print()\n",
        "            return sist_lin_tri_sup(A,b)\n",
        "        \n",
        "        if inf:\n",
        "            print('\\033[1m', \"Matriz triangular inferior\", '\\033[0m')\n",
        "            print()\n",
        "            return sist_lin_tri_inf(A,b)\n"
      ]
    },
    {
      "cell_type": "markdown",
      "metadata": {
        "id": "M4THTZObZJF2"
      },
      "source": [
        "## Matriz Diagonal"
      ]
    },
    {
      "cell_type": "code",
      "execution_count": null,
      "metadata": {
        "id": "DuvQEdm9ZJF2"
      },
      "outputs": [],
      "source": [
        "A = np.diag([1,4,2])\n",
        "b = np.array([4, 2, 2])\n",
        "\n",
        "verificar_matriz(A,b)"
      ]
    },
    {
      "cell_type": "markdown",
      "metadata": {
        "id": "NQw_i7OdZJF2"
      },
      "source": [
        "## Matriz Triangular Superior"
      ]
    },
    {
      "cell_type": "code",
      "execution_count": null,
      "metadata": {
        "id": "pBOknMZ4ZJF3"
      },
      "outputs": [],
      "source": [
        "A = np.array([[3,4,-5,1],[0,1,1,-2],[0,0,4,-5],[0,0,0,2]])\n",
        "b = np.array([-10,-1,3,2])\n",
        "\n",
        "verificar_matriz(A,b)"
      ]
    },
    {
      "cell_type": "markdown",
      "metadata": {
        "id": "YSvCDMGKZJF4"
      },
      "source": [
        "## Matriz Triangular Inferior"
      ]
    },
    {
      "cell_type": "code",
      "execution_count": null,
      "metadata": {
        "id": "_czvqAmRZJF4"
      },
      "outputs": [],
      "source": [
        "A = np.array([[3,0,0,0],[2,1,0,0],[1,0,1,0],[1,1,1,1]])\n",
        "b = np.array([4,2,4,2])\n",
        "\n",
        "verificar_matriz(A,b)"
      ]
    },
    {
      "cell_type": "code",
      "execution_count": null,
      "metadata": {
        "id": "P9TwZHVIZJF5"
      },
      "outputs": [],
      "source": [
        ""
      ]
    }
  ],
  "metadata": {
    "kernelspec": {
      "display_name": "Python 3",
      "language": "python",
      "name": "python3"
    },
    "language_info": {
      "codemirror_mode": {
        "name": "ipython",
        "version": 3
      },
      "file_extension": ".py",
      "mimetype": "text/x-python",
      "name": "python",
      "nbconvert_exporter": "python",
      "pygments_lexer": "ipython3",
      "version": "3.7.6"
    },
    "colab": {
      "name": "lista10.ipynb",
      "provenance": []
    }
  },
  "nbformat": 4,
  "nbformat_minor": 0
}