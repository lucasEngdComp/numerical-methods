{
 "cells": [
  {
   "cell_type": "code",
   "execution_count": 54,
   "metadata": {},
   "outputs": [],
   "source": [
    "import numpy as np\n",
    "import matplotlib.pyplot as plt\n",
    "import scipy.linalg as sla"
   ]
  },
  {
   "cell_type": "code",
   "execution_count": 55,
   "metadata": {},
   "outputs": [],
   "source": [
    "def escalonaResolve(A,b):\n",
    "    Ab = np.c_[A,b]\n",
    "    n = len(A)\n",
    "    \n",
    "    for c in range(n-1):  \n",
    "        for l in range(c+1,n):\n",
    "            p = np.abs(Ab[c:,c]).argmax() + c\n",
    "            Ab[[c,p]] = Ab[[p,c]]\n",
    "            Ab[l] = Ab[l] - (Ab[l,c]/Ab[c,c])*Ab[c]\n",
    "            \n",
    "    C = Ab[:,:-1]\n",
    "    d = Ab[:,-1]\n",
    "    n1 = len(d)\n",
    "    x = np.empty(n1)\n",
    "    \n",
    "    if(C[-1,-1] == 0):\n",
    "        return \"Matriz singular\"\n",
    "    \n",
    "    x[-1] = d[-1]/C[-1,-1]\n",
    "\n",
    "    for i in range(n1-2, -1, -1):\n",
    "         x[i] = (d[i] - np.sum(C[i,i+1:]*x[i+1:]))/C[i,i]\n",
    "    return x"
   ]
  },
  {
   "cell_type": "code",
   "execution_count": 56,
   "metadata": {},
   "outputs": [],
   "source": [
    "def pivotize(m):\n",
    "    n = len(m)\n",
    "    ID = [[float(i == j) for i in range(n)] for j in range(n)]\n",
    "    for j in range(n):\n",
    "        row = max(range(j, n), key=lambda i: abs(m[i][j]))\n",
    "        if j != row:\n",
    "            ID[j], ID[row] = ID[row], ID[j]\n",
    "    return ID"
   ]
  },
  {
   "cell_type": "code",
   "execution_count": 57,
   "metadata": {},
   "outputs": [],
   "source": [
    "def LU(A):\n",
    "    n = len(A)\n",
    "    L = [[0.0] * n for i in range(n)]\n",
    "    U = [[0.0] * n for i in range(n)]\n",
    "    \n",
    "    P = pivotize(A)\n",
    "    A2 = np.array(P)@np.array(A)\n",
    "    \n",
    "    for j in range(n):\n",
    "        L[j][j] = 1.0\n",
    "        for i in range(j+1):\n",
    "            s1 = sum(U[k][j] * L[i][k] for k in range(i))\n",
    "            U[i][j] = A2[i][j] - s1\n",
    "            \n",
    "        for i in range(j, n):\n",
    "            s2 = sum(U[k][j] * L[i][k] for k in range(j))\n",
    "            L[i][j] = (A2[i][j] - s2) / U[j][j]\n",
    "    return (np.array(L), np.array(U), np.array(P))"
   ]
  },
  {
   "cell_type": "code",
   "execution_count": 58,
   "metadata": {},
   "outputs": [],
   "source": [
    "def sist_lin_tri_sup(A, b):\n",
    "    n = len(b)\n",
    "    x = np.empty(n)\n",
    "    \n",
    "    x[-1] = b[-1]/A[-1, -1]\n",
    "    \n",
    "    for i in range(n-2, -1, -1):\n",
    "        x[i] = (b[i] - np.sum(A[i,i+1:]*x[i+1:]))/A[i,i]\n",
    "    return x"
   ]
  },
  {
   "cell_type": "code",
   "execution_count": 59,
   "metadata": {},
   "outputs": [],
   "source": [
    "def dec_LU(L, U, P, b):\n",
    "    Pb = P@b\n",
    "    y = sist_lin_tri_inf(L, Pb)\n",
    "    x = sist_lin_tri_sup(U, y)\n",
    "    return x"
   ]
  },
  {
   "cell_type": "code",
   "execution_count": 60,
   "metadata": {},
   "outputs": [],
   "source": [
    "def sist_lin_tri_inf(A,b):\n",
    "    n = len(b)\n",
    "    x = np.empty(n)\n",
    "    \n",
    "    x[0] = b[0]/A[0, 0]\n",
    "    \n",
    "    for i in range(1,n):\n",
    "        x[i] = (b[i] - np.sum(A[i,:i]*x[:i]))/A[i,i]\n",
    "    return x"
   ]
  },
  {
   "cell_type": "markdown",
   "metadata": {},
   "source": [
    "* 1 - A"
   ]
  },
  {
   "cell_type": "code",
   "execution_count": 61,
   "metadata": {},
   "outputs": [
    {
     "name": "stdout",
     "output_type": "stream",
     "text": [
      "Matriz singular\n",
      "[ 1. -1.  1.]\n"
     ]
    }
   ],
   "source": [
    "#x1 + x2 + x3 = 1\n",
    "#4x1 + 4x2 + 2x3 = 2\n",
    "#2x1 + x2 − x3 = 0\n",
    "#COEFICIENTES DO SISTEMA - >\n",
    "\n",
    "A = np.array([[1,1,1],[4,4,2],[2,1,-1]])\n",
    "b = np.array([1,2,0])\n",
    "\n",
    "print(escalonaResolve(A,b))\n",
    "print(sla.solve(A,b))"
   ]
  },
  {
   "cell_type": "code",
   "execution_count": 62,
   "metadata": {},
   "outputs": [
    {
     "name": "stdout",
     "output_type": "stream",
     "text": [
      "[nan nan nan]\n",
      "[ 1. -1.  1.]\n"
     ]
    },
    {
     "name": "stderr",
     "output_type": "stream",
     "text": [
      "C:\\Users\\LUCASE~1\\AppData\\Local\\Temp/ipykernel_10484/3666681021.py:17: RuntimeWarning: invalid value encountered in double_scalars\n",
      "  L[i][j] = (A2[i][j] - s2) / U[j][j]\n",
      "C:\\Users\\LUCASE~1\\AppData\\Local\\Temp/ipykernel_10484/3666681021.py:17: RuntimeWarning: divide by zero encountered in double_scalars\n",
      "  L[i][j] = (A2[i][j] - s2) / U[j][j]\n"
     ]
    }
   ],
   "source": [
    "A = np.array([[1,1,1],[4,4,2],[2,1,-1]])\n",
    "b = np.array([1,2,0])\n",
    "\n",
    "L, U, P = LU(A)\n",
    "L_U, piv = sla.lu_factor(A)\n",
    "\n",
    "\n",
    "print(dec_LU(L, U, P, b))\n",
    "\n",
    "print(sla.lu_solve((L_U, piv), b))"
   ]
  },
  {
   "cell_type": "markdown",
   "metadata": {},
   "source": [
    "* 1 - B"
   ]
  },
  {
   "cell_type": "code",
   "execution_count": 63,
   "metadata": {},
   "outputs": [
    {
     "name": "stdout",
     "output_type": "stream",
     "text": [
      "[5.64285714 5.64285714 1.        ]\n",
      "[5.64285714 5.64285714 1.        ]\n"
     ]
    }
   ],
   "source": [
    "#7x1 − 7x2 + x3 = 1\n",
    "#−3x1 + 3x2 + 2x3 = 2\n",
    "#7x1 + 7x2 − 72x3 = 7\n",
    "#coeficientes do sistema \n",
    "\n",
    "A = np.array([[7,-7,1],[-3,3,2],[7,7,-72]])\n",
    "b = np.array([1,2,7])\n",
    "\n",
    "print(escalonaResolve(A,b))\n",
    "print(sla.solve(A,b))"
   ]
  },
  {
   "cell_type": "code",
   "execution_count": 64,
   "metadata": {},
   "outputs": [
    {
     "name": "stdout",
     "output_type": "stream",
     "text": [
      "[5.64285714 5.64285714 1.        ]\n",
      "[5.64285714 5.64285714 1.        ]\n"
     ]
    }
   ],
   "source": [
    "A = np.array([[7,-7,1],[-3,3,2],[7,7,-72]])\n",
    "b = np.array([1,2,7])\n",
    "\n",
    "L, U, P = LU(A)\n",
    "L_U, piv = sla.lu_factor(A)\n",
    "\n",
    "print(dec_LU(L,U,P,b))\n",
    "print(sla.lu_solve((L_U, piv), b))"
   ]
  },
  {
   "cell_type": "markdown",
   "metadata": {},
   "source": [
    "* 1 - C"
   ]
  },
  {
   "cell_type": "code",
   "execution_count": 65,
   "metadata": {},
   "outputs": [
    {
     "name": "stdout",
     "output_type": "stream",
     "text": [
      "[ 2. -2.  2.  4.]\n",
      "[ 2. -2.  2.  4.]\n"
     ]
    }
   ],
   "source": [
    "#x1 + 2x2 + 3x3 + 4x4 = 20\n",
    "#2x1 + 2x2 + 3x3 + 4x4 = 22\n",
    "#3x1 + 3x2 + 3x3 + 4x4 = 22\n",
    "#4x1 + 4x2 + 4x3 + 4x4 = 24\n",
    "#coeficientes do sistema >\n",
    "\n",
    "A = np.array([[1,2,3,4],[2,2,3,4],[3,3,3,4],[4,4,4,4]])\n",
    "b = np.array([20,22,22,24])\n",
    "\n",
    "print(escalonaResolve(A,b))\n",
    "print(sla.solve(A,b))"
   ]
  },
  {
   "cell_type": "code",
   "execution_count": 66,
   "metadata": {},
   "outputs": [
    {
     "name": "stdout",
     "output_type": "stream",
     "text": [
      "[ 2. -2.  2.  4.]\n",
      "[ 2. -2.  2.  4.]\n"
     ]
    }
   ],
   "source": [
    "A = np.array([[1,2,3,4],[2,2,3,4],[3,3,3,4],[4,4,4,4]])\n",
    "b = np.array([20,22,22,24])\n",
    "\n",
    "L, U, P = LU(A)\n",
    "L_U, piv = sla.lu_factor(A)\n",
    "\n",
    "print(dec_LU(L, U, P, b))\n",
    "print(sla.lu_solve((L_U, piv), b))"
   ]
  }
 ],
 "metadata": {
  "kernelspec": {
   "display_name": "Python 3 (ipykernel)",
   "language": "python",
   "name": "python3"
  },
  "language_info": {
   "codemirror_mode": {
    "name": "ipython",
    "version": 3
   },
   "file_extension": ".py",
   "mimetype": "text/x-python",
   "name": "python",
   "nbconvert_exporter": "python",
   "pygments_lexer": "ipython3",
   "version": "3.9.7"
  }
 },
 "nbformat": 4,
 "nbformat_minor": 4
}
