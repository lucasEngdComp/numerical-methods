{
 "cells": [
  {
   "cell_type": "code",
   "execution_count": 1,
   "metadata": {},
   "outputs": [],
   "source": [
    "import numpy as np\n",
    "import matplotlib.pyplot as plt\n",
    "import scipy.linalg as sla"
   ]
  },
  {
   "cell_type": "markdown",
   "metadata": {},
   "source": [
    "## Métodos para sistemas não triviais\n",
    "\n",
    "#### Questão: como resolver sistemas de equações cuja matriz de coeficientes não seja nem diagonal, nem triangular?\n",
    "\n",
    "A saída: usar métodos que transformem esse sistema em um sistema que possa ser resolvido por uma das abordagens triviais.\n",
    "\n",
    "Duas possíveis abordagens: \n",
    "\n",
    "* métodos diretos: a solução do sistema é encontrada após um conjunto pré-conhecido de operações;\n",
    "* métodos iterativos: a solução é encontrada de forma iterativa.\n",
    "\n",
    "Nessa aula trabalharemos com métodos diretos!\n",
    "\n",
    "Objetivos dos métodos diretos: encontrar um sistema de equações equivalente (formado por outras equações, mas que possue o mesmo conjunto solução), obtido pelo uso de somente três possíveis operações:\n",
    "\n",
    "* multiplicação de um linha por uma constante não nula\n",
    "* substituição de uma linha por ela mesma somada a um múltiplo de outra linha\n",
    "* permutação de duas linhas\n",
    "\n",
    "Possíveis abordagens:\n",
    "\n",
    "![](metodos_diretos.png)\n",
    "\n",
    "onde $U$ indica uma matriz triangular superior e $L$, triangular inferior e $I$ uma matriz identidade.\n",
    "\n"
   ]
  },
  {
   "cell_type": "markdown",
   "metadata": {},
   "source": [
    "### Eliminação Gaussiana"
   ]
  },
  {
   "cell_type": "markdown",
   "metadata": {},
   "source": [
    "Objetivo: modificar a matriz de coeficientes para se turnar uma matriz triangular superior. \n",
    "\n",
    "Método normalmente visto em cursos e livros de álgebra linear ou mesmo em introduções a algebra matricial no ensino médio.\n",
    "\n",
    "As equações originais são modificadas por um processo conhecido como *escalonamento*, ou *eliminação*.\n",
    "\n",
    "![](escalonamento.png)\n",
    "\n",
    "Essa operação é feita `n-1` vezes, sendo esse _n_ o número de equações do sistema. _O que isso significa?_ que nós temos de repetir as operações de transformações de escalonamento ou eliminação para primeira coluna, depois para a segunda coluna, e assim por diante, até a última coluna. Essa abordagem é chamada de _escalonamento por coluna_.\n",
    "\n",
    "De uma forma geral o método segue as seguintes etapas:\n",
    "\n",
    " __1. construção da matriz estendida__\n",
    "\n",
    "$$\n",
    "A|b =\\begin{pmatrix}\n",
    "a_{11} & a_{12} & a_{13} & \\cdots & a_{1n} & b_1\\\\\n",
    "a_{21} & a_{22} & a_{23} &\\cdots & a_{2n} & b_2 \\\\\n",
    "a_{31} & a_{32} & a_{33} &\\cdots & a_{3n} & b_3\\\\\n",
    "\\vdots & \\vdots & \\ddots & \\vdots\\\\\n",
    "a_{n1} & a_{n2} & a_{n3} & \\cdots & a_{nn} & b_n\n",
    "\\end{pmatrix}\n",
    "$$\n",
    "\n",
    "Como vimos em aulas anteriores, podemos usar a função ``c_`` da numpy. Um exemplo:"
   ]
  },
  {
   "cell_type": "code",
   "execution_count": null,
   "metadata": {},
   "outputs": [],
   "source": [
    "A = np.array([[1, 2, 3], [4, 5, 6], [7, 8, 9]])\n",
    "b = np.array([1,2,3])\n",
    "print(A)\n",
    "print(b)"
   ]
  },
  {
   "cell_type": "code",
   "execution_count": null,
   "metadata": {},
   "outputs": [],
   "source": [
    "np.c_[A,b]"
   ]
  },
  {
   "cell_type": "code",
   "execution_count": null,
   "metadata": {},
   "outputs": [],
   "source": []
  },
  {
   "cell_type": "markdown",
   "metadata": {},
   "source": [
    "__2. Eliminação dos termos da primeira coluna, a partir da segunda linha__\n",
    "\n",
    "Todos os termos referentes à incógnita $x_1$, exceto o termo $a_{11}$, que é o __pivô__ da coluna, ou seja, o elemento a partir do qual as operações elementares são conduzidas. A escolha do pivô, nesse formato, é basicamente pela posição (o primeiro da coluna). Em resumo, o objetivo é fazer $a_{i1}$, para $i > 1$.\n",
    "\n",
    "Para isso, serão realizadas as seguintes substituições nas linhas da matriz (por notação, chamaremos\n",
    "aqui a $i$-ésima linha da matriz estendida de $L_i$, e sua versão, após as alterações, de $L'_i$):\n",
    "\n",
    "$$\n",
    "L'_2 = L_2 - \\frac{a_{21}}{a_{11}} \\cdot L_1\n",
    "$$\n",
    "\n",
    "$$\n",
    "L'_3 = L_3 - \\frac{a_{31}}{a_{11}} \\cdot L_1\n",
    "$$\n",
    "\n",
    "$$\n",
    "L'_4 = L_4 - \\frac{a_{41}}{a_{11}} \\cdot L_1\n",
    "$$\n",
    "\n",
    "$$\n",
    "\\vdots\n",
    "$$\n",
    "\n",
    "$$\n",
    "L'_n = L_n - \\frac{a_{n1}}{a_{11}} \\cdot L_1\n",
    "$$\n",
    "\n",
    "obtendo uma matriz estendida modificada\n",
    "\n",
    "$$\n",
    "(A|b)^{(1)} =\\begin{pmatrix}\n",
    "a_{11} & a_{12} & a_{13} & \\cdots & a_{1n} & b_1\\\\\n",
    "0 & a'_{22} & a'_{23} &\\cdots & a'_{2n} & b'_2 \\\\\n",
    "0 & a'_{32} & a'_{33} &\\cdots & a'_{3n} & b'_3\\\\\n",
    "\\vdots & \\vdots & \\ddots & \\vdots\\\\\n",
    "0 & a'_{n2} & a'_{n3} & \\cdots & a'_{nn} & b'_n\n",
    "\\end{pmatrix}\n",
    "$$\n",
    "\n",
    "\n",
    "__3. Eliminação dos termos da segunda coluna, a partir da terceira linha__\n",
    "\n",
    "Mesmo procedimento anterior, porém com o pivô agora é o elemento $a_{22}$ da matriz $(A|b)^{(1)}$, ou seja, o objetivo é fazer $a_{i2}$, para $i > 2$.\n",
    "\n",
    "As substituições a serem feitas são:\n",
    "\n",
    "$$\n",
    "L''_3 = L'_3 - \\frac{a_{32}}{a_{22}} \\cdot L'_2\n",
    "$$\n",
    "\n",
    "$$\n",
    "L''_4 = L'_4 - \\frac{a_{42}}{a_{22}} \\cdot L'_2\n",
    "$$\n",
    "\n",
    "$$\n",
    "\\vdots\n",
    "$$\n",
    "\n",
    "$$\n",
    "L''_n = L'_n - \\frac{a_{n2}}{a_{22}} \\cdot L'_2\n",
    "$$\n",
    "\n",
    "obtendo uma matriz estendida modificada\n",
    "\n",
    "$$\n",
    "(A|b)^{(2)} =\\begin{pmatrix}\n",
    "a_{11} & a_{12} & a_{13} & \\cdots & a_{1n} & b_1\\\\\n",
    "0 & a'_{22} & a'_{23} &\\cdots & a'_{2n} & b'_2 \\\\\n",
    "0 & 0 & a'_{33} &\\cdots & a'_{3n} & b'_3\\\\\n",
    "\\vdots & \\vdots & \\ddots & \\vdots\\\\\n",
    "0 & 0 & a'_{n3} & \\cdots & a'_{nn} & b'_n\n",
    "\\end{pmatrix}\n",
    "$$\n",
    "\n",
    "__4. Obtenção da matriz escalonada__\n",
    "\n",
    "Os passos acima continuam até que a última linha tenha somente o elemento de maior índice, ou seja, que a última linha do sistema tenha somente uma variável a ser descoberta, gerando uma matriz estendida escalonada da forma\n",
    "\n",
    "$$\n",
    "(A|b)^{(n)} =\\begin{pmatrix}\n",
    "a_{11} & a_{12} & a_{13} & \\cdots & a_{1n} & b_1\\\\\n",
    "0 & a'_{22} & a'_{23} &\\cdots & a'_{2n} & b'_2 \\\\\n",
    "0 & 0 & a'_{33} &\\cdots & a'_{3n} & b'_3\\\\\n",
    "\\vdots & \\vdots & \\ddots & \\vdots\\\\\n",
    "0 & 0 & 0 & \\cdots & a'_{nn} & b'_n\n",
    "\\end{pmatrix}\n",
    "$$\n",
    "\n",
    "em que\n",
    "\n",
    "* todos os coeficientes e termos independentes serão diferentes dos originais, exceto, na primeira linha\n",
    "* a matriz de coeficientes obtida após o escalonamento é uma matriz superior triangular, e nós sabemos como encontrar a solução, o que nos leva ao passo 5.\n",
    "\n",
    "__5. Cálculo da solução do sistema__\n",
    "\n",
    "Uma vez escalonada a matriz, basta, então, aplicar a técnica da substituição retroativa usada para sistemas triangulares superiores para encontrar os valores das incógnitas do sistema de equações lineares avaliado.\n",
    "\n",
    "__A grande pergunta: como fazer isso em python?__\n",
    "\n",
    "Nós temos a grande sorte de que o Numpy nos permite fazer essas operações de forma vetorial!\n",
    "\n",
    "Vamos ver um exemplo passo a passo usando o Python para enterdermos o processo. Considere o sistema\n",
    "\n",
    "$$\n",
    "  \\begin{split}\n",
    "    2x_1 + 3x_2 -1x_3  &= 5\\\\\n",
    "    4x_1 + 4x_2 -3x_3  &= 3\\\\\n",
    "    2x_1 - 3x_2 +1x_3  &= -1\\\\\n",
    "  \\end{split}\n",
    "$$\n",
    "\n",
    "cujas matriz de coeficientes e vetor independente são"
   ]
  },
  {
   "cell_type": "code",
   "execution_count": null,
   "metadata": {},
   "outputs": [],
   "source": [
    "A = np.array([[2,3,-1],[4,4,-3],[2,-3,1]])\n",
    "A"
   ]
  },
  {
   "cell_type": "code",
   "execution_count": null,
   "metadata": {},
   "outputs": [],
   "source": [
    "b = np.array([5,3,-1])\n",
    "b"
   ]
  },
  {
   "cell_type": "markdown",
   "metadata": {},
   "source": [
    "Vamos repetir todos os passos discutidos anteriormente:\n",
    "\n",
    "_1. construção da matriz estendida_"
   ]
  },
  {
   "cell_type": "code",
   "execution_count": null,
   "metadata": {},
   "outputs": [],
   "source": [
    "A_b = np.c_[A,b]\n",
    "A_b"
   ]
  },
  {
   "cell_type": "markdown",
   "metadata": {},
   "source": [
    "_2. Eliminação dos termos da primeira coluna, a partir da segunda linha, seguindo a expressão_\n",
    "\n",
    "$$\n",
    "L'_i = L_i - \\frac{a_{i1}}{a_{11}} \\cdot L_1, \\forall i > 1\n",
    "$$\n",
    "\n",
    "No nosso caso, como o pivô ta na primeira linha, temos de modificar a partir da segunda linha"
   ]
  },
  {
   "cell_type": "markdown",
   "metadata": {},
   "source": [
    "$$\n",
    "L'_2 = L_2 - \\frac{a_{21}}{a_{11}} \\cdot L_1\n",
    "$$"
   ]
  },
  {
   "cell_type": "code",
   "execution_count": null,
   "metadata": {},
   "outputs": [],
   "source": [
    "#linha 2 - indice 1\n",
    "A_b[1] = A_b[1] - (A_b[1,0]/A_b[0,0])*A_b[0]\n",
    "A_b[1]"
   ]
  },
  {
   "cell_type": "markdown",
   "metadata": {},
   "source": [
    "$$\n",
    "L'_3 = L_3 - \\frac{a_{31}}{a_{11}} \\cdot L_1\n",
    "$$"
   ]
  },
  {
   "cell_type": "code",
   "execution_count": null,
   "metadata": {},
   "outputs": [],
   "source": [
    "A_b[2] = A_b[2] - (A_b[2,0]/A_b[0,0])*A_b[0]\n",
    "A_b[2]"
   ]
  },
  {
   "cell_type": "markdown",
   "metadata": {},
   "source": [
    "e a matriz estendida após a operação na primeira coluna se torna"
   ]
  },
  {
   "cell_type": "code",
   "execution_count": null,
   "metadata": {},
   "outputs": [],
   "source": [
    "array([[ 2,  3, -1,  5],\n",
    "       [ 4,  4, -3,  3],\n",
    "       [ 2, -3,  1, -1]])"
   ]
  },
  {
   "cell_type": "code",
   "execution_count": null,
   "metadata": {},
   "outputs": [],
   "source": [
    "A_b"
   ]
  },
  {
   "cell_type": "code",
   "execution_count": null,
   "metadata": {},
   "outputs": [],
   "source": []
  },
  {
   "cell_type": "markdown",
   "metadata": {},
   "source": [
    "_3. Eliminação dos termos da segunda coluna, a partir da terceira linha, seguindo a expressão_\n",
    "\n",
    "$$\n",
    "L''_i = L_i - \\frac{a_{i2}}{a_{22}} \\cdot L'_2, \\forall i > 2\n",
    "$$\n",
    "\n",
    "No nosso caso, como o pivô ta na segunda linha, temos de modificar a terceira linha\n",
    "\n",
    "$$\n",
    "L''_3 = L'_3 - \\frac{a_{32}}{a_{22}} \\cdot L'_2\n",
    "$$"
   ]
  },
  {
   "cell_type": "code",
   "execution_count": null,
   "metadata": {},
   "outputs": [],
   "source": [
    "A_b[2] = A_b[2] - (A_b[2,1]/A_b[1,1])*A_b[1]\n",
    "A_b[2]"
   ]
  },
  {
   "cell_type": "markdown",
   "metadata": {},
   "source": [
    "e obtemos assim a matriz escalonada"
   ]
  },
  {
   "cell_type": "code",
   "execution_count": null,
   "metadata": {},
   "outputs": [],
   "source": [
    "A_b"
   ]
  },
  {
   "cell_type": "code",
   "execution_count": null,
   "metadata": {},
   "outputs": [],
   "source": [
    "array([[ 2,  3, -1,  5],\n",
    "       [ 4,  4, -3,  3],\n",
    "       [ 2, -3,  1, -1]])\n",
    "\n",
    "array([[ 2,  3, -1,  5],\n",
    "       [ 0, -2, -1, -7],\n",
    "       [ 0, -6,  2, -6]])\n",
    "\n",
    "array([[ 2,  3, -1,  5],\n",
    "       [ 0, -2, -1, -7],\n",
    "       [ 0,  0,  5, 15]])"
   ]
  },
  {
   "cell_type": "markdown",
   "metadata": {},
   "source": [
    "que se refere ao sistema equivalente\n",
    "\n",
    "$$\n",
    "  \\begin{split}\n",
    "    2x_1 + 3x_2 -1x_3  &= 5\\\\\n",
    "     -2x_2 -1x_3  &= -7\\\\\n",
    "    5x_3  &= 15\\\\\n",
    "  \\end{split}\n",
    "$$\n",
    "\n",
    "que é triangular superior e nós sabemos bastante bem como resolvê-lo!\n",
    "\n",
    "Nossa questão agora é: ___como construir uma função que execute o processo de eliminação completo, sem o passo a passo...___\n",
    "\n",
    "Temos de observar que dois índices se modificam: um referente a linha, o outro a coluna. Chamaremos o de linha `l` e o de coluna `c`, por motivos óbvios.\n",
    "\n",
    "E observamos, tanto no exemplo teórico, quando no exemplo usando Python que fizemos a pouco, que considerando o pivô numa dada coluna, fazemos todas as operações de linha, e só depois passamos para o pivô de outra coluna.\n",
    "\n",
    "Além disso, o índice da linha sempre varia do índice da coluna do pivô para cima.\n",
    "\n",
    "De posse dessas duas considerações, é fácil construirmos uma função que faça as transformações.\n",
    "\n",
    "Assim,"
   ]
  },
  {
   "cell_type": "code",
   "execution_count": null,
   "metadata": {},
   "outputs": [],
   "source": [
    "#para lembrar do range\n",
    "list(range(3-1))"
   ]
  },
  {
   "cell_type": "code",
   "execution_count": 4,
   "metadata": {},
   "outputs": [],
   "source": [
    "def escalona(A,b):\n",
    "    Ab = np.c_[A,b] #matriz estendida\n",
    "    n = len(A)\n",
    "    for c in range(n-1): #escolher a coluna\n",
    "        for l in range(c+1,n): # escolher linha\n",
    "            Ab[l] = Ab[l] - (Ab[l,c]/Ab[c,c])*Ab[c]\n",
    "    return Ab[:,:-1], Ab[:,-1]"
   ]
  },
  {
   "cell_type": "markdown",
   "metadata": {},
   "source": [
    "quando $c = 0$, $l = 1$:"
   ]
  },
  {
   "cell_type": "raw",
   "metadata": {},
   "source": [
    "Ab[1] = Ab[1] - (Ab[1,0]/Ab[0,0])*Ab[0]"
   ]
  },
  {
   "cell_type": "markdown",
   "metadata": {},
   "source": [
    "quando $c = 0$, $l = 2$:"
   ]
  },
  {
   "cell_type": "raw",
   "metadata": {},
   "source": [
    "Ab[2] = Ab[2] - (Ab[2,0]/Ab[0,0])*Ab[0]"
   ]
  },
  {
   "cell_type": "markdown",
   "metadata": {},
   "source": [
    "Testando para nosso exemplo anterior, em que"
   ]
  },
  {
   "cell_type": "code",
   "execution_count": null,
   "metadata": {},
   "outputs": [],
   "source": [
    "print('A = \\n', A)\n",
    "print('\\nb = ',b)"
   ]
  },
  {
   "cell_type": "markdown",
   "metadata": {},
   "source": [
    "temos"
   ]
  },
  {
   "cell_type": "code",
   "execution_count": null,
   "metadata": {},
   "outputs": [],
   "source": [
    "A,b = escalona(A,b)\n",
    "print('A_ = \\n', A)\n",
    "print('\\nb_ = ',b)"
   ]
  },
  {
   "cell_type": "markdown",
   "metadata": {},
   "source": [
    "que é o mesmo resultado que obtemos!"
   ]
  },
  {
   "cell_type": "markdown",
   "metadata": {},
   "source": [
    "## Eliminação Gaussiana usando Scipy\n",
    "\n",
    "Na biblioteca `scipy`, temos a opção de usar a função `solve`, do submódulo `linalg`, que implementa a solução completa do sistema usando diversas abordagens (ver [documentação](https://docs.scipy.org/doc/scipy/reference/generated/scipy.linalg.solve.html)).\n",
    "\n",
    "![](sla_solve.png)\n",
    "\n",
    "Para usar é razoavelmente simples:"
   ]
  },
  {
   "cell_type": "code",
   "execution_count": null,
   "metadata": {},
   "outputs": [],
   "source": [
    "x = sla.solve(A,b)\n",
    "x"
   ]
  },
  {
   "cell_type": "code",
   "execution_count": null,
   "metadata": {},
   "outputs": [],
   "source": [
    "print('A = \\n', A)\n",
    "print('\\nb = ',b)"
   ]
  },
  {
   "cell_type": "code",
   "execution_count": null,
   "metadata": {},
   "outputs": [],
   "source": [
    "A@x"
   ]
  },
  {
   "cell_type": "code",
   "execution_count": null,
   "metadata": {},
   "outputs": [],
   "source": [
    "A_,b_ = escalona(A,b)\n",
    "print('A_ = \\n', A_)\n",
    "print('\\nb_ = ',b_)"
   ]
  },
  {
   "cell_type": "code",
   "execution_count": null,
   "metadata": {},
   "outputs": [],
   "source": [
    "A_@x"
   ]
  },
  {
   "cell_type": "markdown",
   "metadata": {},
   "source": [
    "Devemos perceber que a função retorna a solução do sistema, e não apenas o escalonamento!"
   ]
  },
  {
   "cell_type": "markdown",
   "metadata": {},
   "source": [
    "### Eliminação Gaussiana com Pivotamento"
   ]
  },
  {
   "cell_type": "markdown",
   "metadata": {},
   "source": [
    "Consideremos agora os seguintes exemplos.\n",
    "\n",
    "Primeiro, o sistema\n",
    "\n",
    "$$\n",
    "  \\begin{split}\n",
    "    x_1 + x_2 +x_3  &= 1\\\\\n",
    "    4x_1 + 4x_2 +2x_3  &= 2\\\\\n",
    "    2x_1 + x_2 -x_3  &= 0\\\\\n",
    "  \\end{split}\n",
    "$$\n",
    "\n",
    "cujas matriz de coeficientes e vetor independente são"
   ]
  },
  {
   "cell_type": "code",
   "execution_count": 2,
   "metadata": {},
   "outputs": [
    {
     "data": {
      "text/plain": [
       "array([[ 1,  1,  1],\n",
       "       [ 4,  4,  2],\n",
       "       [ 2,  1, -1]])"
      ]
     },
     "execution_count": 2,
     "metadata": {},
     "output_type": "execute_result"
    }
   ],
   "source": [
    "A = np.array([[1,1,1],[4,4,2],[2,1,-1]])\n",
    "A"
   ]
  },
  {
   "cell_type": "code",
   "execution_count": 3,
   "metadata": {},
   "outputs": [
    {
     "data": {
      "text/plain": [
       "array([1, 2, 0])"
      ]
     },
     "execution_count": 3,
     "metadata": {},
     "output_type": "execute_result"
    }
   ],
   "source": [
    "b = np.array([1,2,0])\n",
    "b"
   ]
  },
  {
   "cell_type": "markdown",
   "metadata": {},
   "source": [
    "Usando a função `escalona`, obtemos"
   ]
  },
  {
   "cell_type": "code",
   "execution_count": 5,
   "metadata": {},
   "outputs": [
    {
     "name": "stdout",
     "output_type": "stream",
     "text": [
      "A_ = \n",
      " [[                   1                    1                    1]\n",
      " [                   0                    0                   -2]\n",
      " [-9223372036854775808 -9223372036854775808 -9223372036854775808]]\n",
      "\n",
      "b_ =  [                   1                   -2 -9223372036854775808]\n"
     ]
    },
    {
     "name": "stderr",
     "output_type": "stream",
     "text": [
      "<ipython-input-4-c7d407a877c9>:6: RuntimeWarning: divide by zero encountered in long_scalars\n",
      "  Ab[l] = Ab[l] - (Ab[l,c]/Ab[c,c])*Ab[c]\n",
      "<ipython-input-4-c7d407a877c9>:6: RuntimeWarning: invalid value encountered in multiply\n",
      "  Ab[l] = Ab[l] - (Ab[l,c]/Ab[c,c])*Ab[c]\n"
     ]
    }
   ],
   "source": [
    "A_,b_ = escalona(A,b)\n",
    "print('A_ = \\n', A_)\n",
    "print('\\nb_ = ',b_)"
   ]
  },
  {
   "cell_type": "markdown",
   "metadata": {},
   "source": [
    "Temos um erro aqui...\n",
    "\n",
    "Esse erro acontece devido a uma divisão por zero, como mostrado na mensagem de erro. Além disso podemos supor que esse erro ocorre provavelmente no escalonamento da segunda coluna, pelos valores estranhos mostrados na terceira linha da matriz $A$ que a função mostra na saída.\n",
    "\n",
    "De fato, escalonando a primeira coluna, nós teríamos"
   ]
  },
  {
   "cell_type": "code",
   "execution_count": 6,
   "metadata": {},
   "outputs": [
    {
     "data": {
      "text/plain": [
       "array([[ 1,  1,  1,  1],\n",
       "       [ 4,  4,  2,  2],\n",
       "       [ 2,  1, -1,  0]])"
      ]
     },
     "execution_count": 6,
     "metadata": {},
     "output_type": "execute_result"
    }
   ],
   "source": [
    "A_b = np.c_[A,b]\n",
    "A_b"
   ]
  },
  {
   "cell_type": "code",
   "execution_count": 7,
   "metadata": {},
   "outputs": [
    {
     "data": {
      "text/plain": [
       "array([ 0,  0, -2, -2])"
      ]
     },
     "execution_count": 7,
     "metadata": {},
     "output_type": "execute_result"
    }
   ],
   "source": [
    "A_b[1] = A_b[1] - (A_b[1,0]/A_b[0,0])*A_b[0]\n",
    "A_b[1]"
   ]
  },
  {
   "cell_type": "code",
   "execution_count": 8,
   "metadata": {},
   "outputs": [
    {
     "data": {
      "text/plain": [
       "array([ 0, -1, -3, -2])"
      ]
     },
     "execution_count": 8,
     "metadata": {},
     "output_type": "execute_result"
    }
   ],
   "source": [
    "A_b[2] = A_b[2] - (A_b[2,0]/A_b[0,0])*A_b[0]\n",
    "A_b[2]"
   ]
  },
  {
   "cell_type": "code",
   "execution_count": 9,
   "metadata": {},
   "outputs": [
    {
     "data": {
      "text/plain": [
       "array([[ 1,  1,  1,  1],\n",
       "       [ 0,  0, -2, -2],\n",
       "       [ 0, -1, -3, -2]])"
      ]
     },
     "execution_count": 9,
     "metadata": {},
     "output_type": "execute_result"
    }
   ],
   "source": [
    "A_b"
   ]
  },
  {
   "cell_type": "markdown",
   "metadata": {},
   "source": [
    "O pivô da segunda coluna será um zero, e teremos um problema... esse tipo de erro ocorre quando o pivô que convencionalmente escolhemos tem valor zero, pois aí temos uma divisão por zero que não é permitida. \n",
    "\n",
    "Problemas também podem surgir quando o elemento pivô é muito próximo de zero, em\n",
    "vez de exatamente igual a zero, porque, se a ordem de grandeza do elemento pivô é\n",
    "pequena comparada com a dos outros elementos, então podem ocorrer erros de\n",
    "arredondamento.\n",
    "\n",
    "Para ilustrar isso, vamos considerar o seguinte sistema \n",
    "\n",
    "$$\n",
    "\\begin{bmatrix}\n",
    "      \\varepsilon & 2\\\\\n",
    "      1 & 2\n",
    "    \\end{bmatrix}\n",
    "    \\begin{bmatrix}\n",
    "      x_1\\\\x_2\n",
    "    \\end{bmatrix}\n",
    "    =\n",
    "    \\begin{bmatrix}\n",
    "      4\\\\3\n",
    "    \\end{bmatrix}\n",
    "$$\n",
    "\n",
    "Vamos fazer a eliminação pela abordagem convencional, como vimos até agora. A matriz estendida do sistema é\n",
    "\n",
    "$$\n",
    "\\left[\\begin{array}{cc|c}\n",
    "\\varepsilon & 2 & 4\\\\\n",
    "1 & 2 & 3\n",
    "\\end{array}\n",
    "\\right]\n",
    "$$\n",
    "\n",
    "Fazendo o escalonamento na primeira coluna, teríamos\n",
    "\n",
    "$$\n",
    "L'_2 = L_2 - \\dfrac{a_{21}}{a_{11}} \\cdot L_1 = [1 ~~~~~~ 2 ~~~~~~ 3] - \\dfrac{1}{\\varepsilon} \\cdot [\\varepsilon ~~~~~~ 2 ~~~~~~ 4] = \\left[0 ~~~~~~ \\dfrac{2\\varepsilon - 2}{\\varepsilon}  ~~~~~~ \\dfrac{3\\varepsilon - 4}{\\varepsilon}\\right]\n",
    "$$\n",
    "\n",
    "e, portanto, a matriz escalonada será\n",
    "\n",
    "$$\n",
    "\\left[\\begin{array}{ccc}\n",
    "\\varepsilon & 2 & 4\\\\\n",
    "0 & \\dfrac{2\\varepsilon - 2}{\\varepsilon} & \\dfrac{3\\varepsilon - 4}{\\varepsilon}\n",
    "\\end{array}\n",
    "\\right]\n",
    "$$\n",
    "\n",
    "e o sistema equivalente será\n",
    "\n",
    "$$\n",
    "\\begin{bmatrix}\n",
    "      \\varepsilon & 2\\\\\n",
    "      0 & \\dfrac{2\\varepsilon - 2}{\\varepsilon}\n",
    "    \\end{bmatrix}\n",
    "    \\begin{bmatrix}\n",
    "      x_1\\\\x_2\n",
    "    \\end{bmatrix}\n",
    "    =\n",
    "    \\begin{bmatrix}\n",
    "      4\\\\\\dfrac{3\\varepsilon - 4}{\\varepsilon}\n",
    "    \\end{bmatrix}\n",
    "$$\n",
    "\n",
    "Resolvendo esse sistema, obtemos\n",
    "\n",
    "$$\n",
    "x_2 = \\dfrac{\\dfrac{3\\varepsilon - 4}{\\varepsilon}}{\\dfrac{2\\varepsilon - 2}{\\varepsilon}} = \\dfrac{3\\varepsilon - 4}{2\\varepsilon - 2}\n",
    "$$\n",
    "\n",
    "e\n",
    "\n",
    "$$\n",
    "x_1 = \\dfrac{4 - 2x_2}{\\varepsilon} = \\dfrac{1}{\\varepsilon} \\cdot \\left[4 - 2 \\cdot \\left(\\dfrac{3\\varepsilon - 4}{2\\varepsilon - 2}\\right)\\right]\n",
    "$$\n",
    "\n",
    "Quando temos um valor muito pequeno para $\\varepsilon$, isto é, muito próximo de 0, a solução será\n",
    "\n",
    "$$\n",
    "\\lim_{\\varepsilon \\rightarrow 0} x_2 = \\dfrac{3 \\cdot 0 - 4}{2 \\cdot 0 - 2} = \\dfrac{- 4}{ - 2} = 2\n",
    "$$\n",
    "\n",
    "$$\n",
    "\\lim_{\\varepsilon \\rightarrow 0} x_1 = \\dfrac{1}{0} \\cdot \\left[4 - 2 \\cdot \\left(\\dfrac{3 \\cdot 0 - 4}{2 \\cdot 0 - 2}\\right)\\right] \\rightarrow \\infty\n",
    "$$\n",
    "\n",
    "Ou seja, um valor muito pequeno do pivô (no nosso caso o $\\varepsilon  \\rightarrow 0$), percebe-se que uma das saídas diverge, gerando um erro por cancelamento catastrófico, isto é, quando há overflow na computação."
   ]
  },
  {
   "cell_type": "markdown",
   "metadata": {},
   "source": [
    "___Como evitar esses problemas então?___\n",
    "\n",
    "A abordagem é basicamente mudar a forma como se escolhe o pivô. Mais especificamente, a abordagem mais comum, chamada de __pivotamento parcial__, escolhe-se o maior coeficiente disponível na coluna abaixo do elemento pivô convencional. Uma vez identificado esse valor, é feito um reposicionamento do pivô, por meio de uma permuta de posição entre a linha do atual pivô e a do valor selecionado. Dessa forma, sempre se garantirá que o pivô, após essa operação, seja o maior valor da coluna, evitando os problemas ilustrados acima. \n",
    "\n",
    "Se procurarmos o maior elemento também nas colunas, além de nas linhas, e então\n",
    "trocarmos, o processo é chamado de pivotamento completo. O __pivotamento completo__ é\n",
    "usado raramente, pois trocar colunas muda a ordem dos x's e, conseqüentemente, acrescenta uma complexidade significativa e normalmente injustificada ao programa de computador. Aqui nos concentraremos especificamente em pivotamento parcial. \n",
    "\n",
    "A única diferença para a implementação da eliminação convencional é que, agora, teremos de inserir dois passos extras:\n",
    "\n",
    "* seleção do maior valor abaixo do pivô da coluna analisada: nesse coluna, temos de verificar se há algum coeficiente de valor absoluto maior que o valor do atual pivô (elemento $a_{ii}$, na $i$-ésima coluna), para as linhas com índice maior que a linha do pivô. Em outras palavras, queremos encontrar, na coluna $c$,  a linha $p$ que esteja entre as linhas $c$ (onde está o atual pivô) e $n$ (última linha), tal que\n",
    "\n",
    "$$\n",
    "|a_{pc}| = \\max{(|a_{(c:n,c)}|)}, \\text{ com } c \\leq p < n\n",
    "$$\n",
    "\n",
    "em que o índice $(c:n,n)$ referencia as linhas  $c$ à $n$, na coluna $c$.\n",
    "\n",
    "* havendo um valor maior que o pivô, as linhas do pivô e desse valor serão permutadas. Não havendo, mantém-se o valor do atual pivô."
   ]
  },
  {
   "cell_type": "markdown",
   "metadata": {},
   "source": [
    "Basicamente, o que muda para a implementação que fizemos é essa reorganização, caso necessário, de linha e de seleção do nosso pivô, feita logo após o primeiro _for_.\n",
    "\n",
    "Para auxiliar no exercício de implementação, vamos ver algumas abordagens que o numpy nos dá para trabalhar nessas operações (lembrando que essas funções são sugestões, não sendo a única forma de resolver esses problemas).\n",
    "\n",
    "Vamos considerar uma matriz de exemplo"
   ]
  },
  {
   "cell_type": "code",
   "execution_count": 10,
   "metadata": {},
   "outputs": [
    {
     "data": {
      "text/plain": [
       "array([[ 3,  2, -4],\n",
       "       [ 2,  3, -1],\n",
       "       [-4, -5,  1]])"
      ]
     },
     "execution_count": 10,
     "metadata": {},
     "output_type": "execute_result"
    }
   ],
   "source": [
    "v = np.array([[3,2,-4],[2,3,-1],[-4,-5,1]])\n",
    "v"
   ]
  },
  {
   "cell_type": "markdown",
   "metadata": {},
   "source": [
    "Primeira coisa a aprender: _como escolher o novo pivô?_\n",
    "\n",
    "Apesar da Numpy ter duas funções que podem nos auxiliar, a `max()` que retorna o maior valor de um vetor, e a `argmax()`, que retorna o índice do maior valor de um vetor, nós temos de atentar que comparamos sempre os valores absolutos do vetor.\n",
    "\n",
    "Assim, para escolher o pivô no escalonamento da primeira coluna, podemos, antes de tudo, encontrar os valores absolutos dos coeficientes dessa coluna"
   ]
  },
  {
   "cell_type": "code",
   "execution_count": 16,
   "metadata": {},
   "outputs": [
    {
     "data": {
      "text/plain": [
       "array([3, 5])"
      ]
     },
     "execution_count": 16,
     "metadata": {},
     "output_type": "execute_result"
    }
   ],
   "source": [
    "np.abs(v[1:,1])"
   ]
  },
  {
   "cell_type": "markdown",
   "metadata": {},
   "source": [
    "E agora verificar qual o índice do maior valor (que no caso é 4)"
   ]
  },
  {
   "cell_type": "code",
   "execution_count": 18,
   "metadata": {},
   "outputs": [
    {
     "data": {
      "text/plain": [
       "2"
      ]
     },
     "execution_count": 18,
     "metadata": {},
     "output_type": "execute_result"
    }
   ],
   "source": [
    "p = np.abs(v[1:,1]).argmax() + 1\n",
    "p"
   ]
  },
  {
   "cell_type": "markdown",
   "metadata": {},
   "source": [
    "O que temos aqui? Olhando pra descrição que fizemos anteriormente, nós temos $p$ é o índice da linha que tem o maior valor absoluto, do pivô para baixo. \n",
    "\n",
    "É importante percebermos que, na indexação usada para analisar a linha, ao invés de usar `v[:,0]`, que retornaria a coluna 0 inteira, usamos `v[0:,0]`, explicitando qual a primeira linha a ser considerada na coluna. Isso se dá, porque, no escalonamento de segunda coluna, nós analisaremos só da segunda linha (onde está o pivô padrão) para baixo, ou seja, faremos `v[1:,1]`.\n",
    "\n",
    "Uma outra coisa a perceber é que estamos somando ao final do computo de $p$ o valor do índice da linha e coluna, fazendo `p = np.abs(v[c:,c]).argmax() + c`. Isso é feito porque, ao fazer o fatiamento pra poder buscar o maior elemento do pivô para baixo, nós mudamos a indexação da cópia feita e `argmax()` retornará o valor dessa nova indexação. Por exemplo, olhando para a segunda coluna, onde o pivô padrão estará na posição $a_{22}$, sem essa correção, teríamos"
   ]
  },
  {
   "cell_type": "code",
   "execution_count": null,
   "metadata": {},
   "outputs": [],
   "source": [
    "p = np.abs(v[1:,1]).argmax()\n",
    "p"
   ]
  },
  {
   "cell_type": "markdown",
   "metadata": {},
   "source": [
    "ou seja, poderíamos dizer que o maior valor absoluto está na linha de posição 1 (segunda linha); só que isso não é verdade, bastando olhar para a matriz original. Com a correção, temos"
   ]
  },
  {
   "cell_type": "code",
   "execution_count": null,
   "metadata": {},
   "outputs": [],
   "source": [
    "p = np.abs(v[1:,1]).argmax() + 1\n",
    "p"
   ]
  },
  {
   "cell_type": "markdown",
   "metadata": {},
   "source": [
    "que nos indica que o maior valor de fato está na terceira linha, como de fato acontece quando comparamos segunda e terceira linhas da coluna 2 na matriz `v`."
   ]
  },
  {
   "cell_type": "markdown",
   "metadata": {},
   "source": [
    "Por fim, uma vez selecionado o novo pivô, ou seja, que a condição $p \\neq c$ for satisfeita, é preciso modificar a posição das linhas, bastando para isso refazer uma atribuição das duas linhas, na forma `v[[c,p]] = v[[p,c]]`. \n",
    "\n",
    "Assim, para a primeira coluna, onde `c = 0` e `p=2`, como calculamos acima, teríamos"
   ]
  },
  {
   "cell_type": "code",
   "execution_count": 19,
   "metadata": {},
   "outputs": [
    {
     "data": {
      "text/plain": [
       "array([[ 3,  2, -4],\n",
       "       [ 2,  3, -1],\n",
       "       [-4, -5,  1]])"
      ]
     },
     "execution_count": 19,
     "metadata": {},
     "output_type": "execute_result"
    }
   ],
   "source": [
    "v"
   ]
  },
  {
   "cell_type": "code",
   "execution_count": 20,
   "metadata": {},
   "outputs": [],
   "source": [
    "v[[0,2]] = v[[2,0]]"
   ]
  },
  {
   "cell_type": "code",
   "execution_count": 22,
   "metadata": {},
   "outputs": [
    {
     "data": {
      "text/plain": [
       "array([[-4, -5,  1],\n",
       "       [ 2,  3, -1],\n",
       "       [ 3,  2, -4]])"
      ]
     },
     "execution_count": 22,
     "metadata": {},
     "output_type": "execute_result"
    }
   ],
   "source": [
    "v"
   ]
  },
  {
   "cell_type": "code",
   "execution_count": 26,
   "metadata": {},
   "outputs": [],
   "source": [
    "v[[1,2]] = v[[2,1]]"
   ]
  },
  {
   "cell_type": "code",
   "execution_count": 27,
   "metadata": {},
   "outputs": [
    {
     "data": {
      "text/plain": [
       "array([[-4, -5,  1],\n",
       "       [ 3,  2, -4],\n",
       "       [ 2,  3, -1]])"
      ]
     },
     "execution_count": 27,
     "metadata": {},
     "output_type": "execute_result"
    }
   ],
   "source": [
    "v"
   ]
  },
  {
   "cell_type": "markdown",
   "metadata": {},
   "source": [
    "e a primeira e terceira linhas foram permutadas, conforme o esperado."
   ]
  }
 ],
 "metadata": {
  "kernelspec": {
   "display_name": "Python 3 (ipykernel)",
   "language": "python",
   "name": "python3"
  },
  "language_info": {
   "codemirror_mode": {
    "name": "ipython",
    "version": 3
   },
   "file_extension": ".py",
   "mimetype": "text/x-python",
   "name": "python",
   "nbconvert_exporter": "python",
   "pygments_lexer": "ipython3",
   "version": "3.9.7"
  }
 },
 "nbformat": 4,
 "nbformat_minor": 4
}
