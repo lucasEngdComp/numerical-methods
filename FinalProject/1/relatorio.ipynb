{
 "cells": [
  {
   "cell_type": "markdown",
   "metadata": {},
   "source": [
    "# <center>__MÉTODOS NUMÉRICOS__</center>\n",
    "## <center>__PROJETO DA UNIDADE 2__</center>\n",
    "\n",
    "#### <center>__ALUNO:__ Lucas  Cordeiro Viera</center>"
   ]
  },
  {
   "cell_type": "markdown",
   "metadata": {},
   "source": [
    "<div class=\"alert alert-block alert-info\">\n",
    "1. INTRODUÇÃO\n",
    "</div>"
   ]
  },
  {
   "cell_type": "markdown",
   "metadata": {},
   "source": [
    "Em algumas áreas da computação como machine learning, deep learning, visão computacional e em outros vieses tecnológicos parecidos, sempre foi problemático a remoção de fundo de imagens, devido a necessidade de aquisição delas para diversos fins. Para isso, diversos métodos foram criados para tentar resolver tal problema. Antes mesmo de surgir o primeiro computador, ferramentas matemáticas já tinham sido criadas para tais, como por exemplo o PCA(Principal Component Analysis) ou Análise de componentes principais, criado em 1901. Além deste método temos o SVD(Singular value decomposition ou Decomposição em valores singulares), desenvolvido por matemáticos em 1873/1874. Tais métodos, assim como outros, são aplicadas em larga escala na computação, matemática, física e química. "
   ]
  },
  {
   "cell_type": "markdown",
   "metadata": {},
   "source": [
    "<div class=\"alert alert-block alert-info\">\n",
    "2. DESCRIÇÃO DO PROBLEMA\n",
    "</div>"
   ]
  },
  {
   "cell_type": "markdown",
   "metadata": {},
   "source": [
    "Remoção de fundo de imagem.\n",
    "Trabalhar com remoção de imagem de fundo sempre foi difícil, para isso, tem que se analisar vários problemas que podem acontecer durante o desenvolvimento de algum software. Uma coisa é detectar objetos ou pessoas num cenário estático e sem ruído,como por exemplo uma imagem, mas quando falamos em ambiente com movimentos, gerando vários tipos de ruídos, a coisa muda. Alguns métodos foram criados durante o avanço tecnológico para tentar solucionar o problema em qualquer cenário, seja estático ou dinâmico. Além disso, ainda temos outras variantes, como por exemplo, grande volume de dados, matrizes, relações matemáticas complexas."
   ]
  },
  {
   "cell_type": "markdown",
   "metadata": {},
   "source": [
    "<div class=\"alert alert-block alert-info\">\n",
    "3. MÉTODOS APLICADOS À SOLUÇÃO\n",
    "</div>"
   ]
  },
  {
   "cell_type": "markdown",
   "metadata": {},
   "source": [
    "\n",
    "Iremos utilizar neste trabalho:\n",
    "\n",
    "* SVD\n",
    "Para tentar solucionar o problema de remoção de fundo com PCA robusto, foi utilizado os seguintes métodos: SVD (Decomposição em valores singulares), onde foi feita a fatorização de matrizes, formalmente falando, ela é dita por: M = UΣV*, onde U(m×m, real ou complexa) e V*( n×n, real ou complexa, conjugada transposta de V) são matrizes unitárias e Σ(sigma) é uma matriz retangular diagonal m×n com números reais não-negativos na diagonal.Como funciona o SVD? M é uma matriz onde temos números,reais ou complexos, retangulares, onde esses números escalares passam por uma fatorização utilizando a fórmula: M = UΣV*. Algumas aplicações com este método são: pseudoinversa, aproximação de matrizes, determinação do posto, imagem e núcleo de uma matriz e compressão e imagens. SVD foi utilizado para fazer aproximações das matrizes da imagem, gerando vários vetores onde quanto maior o número de vetores e, dessa forma, conseguindo chegar na imagem original ( diminuindo o tamanho do dado original).\n",
    "* ACP\n",
    "(Análise de componentes principais), procedimento matemático que utiliza a transformação ortogonal. Esses componentes principais, são um conjuto de valores de variáveis linearmente não correlacionadas."
   ]
  },
  {
   "cell_type": "markdown",
   "metadata": {},
   "source": [
    "<div class=\"alert alert-block alert-info\">\n",
    "4. IMPLEMENTAÇÃO\n",
    "</div>"
   ]
  },
  {
   "cell_type": "code",
   "execution_count": null,
   "metadata": {},
   "outputs": [],
   "source": [
    "#Aqui você irá  mostrar sua implementação para o problema considerado, \n",
    "#explicando o que foi feito em cada passo e cada saída de cada trecho de código, \n",
    "#sempre relacionando com a descrição do método mostrada acima.\n",
    "\n",
    "#IMPORTANDO AS BIBLIOTECAS NECESSÁRIAS.\n",
    "\n",
    "from glob import glob\n",
    "import moviepy.editor as mpe\n",
    "import sys, os\n",
    "import numpy as np\n",
    "import scipy\n",
    "from PIL import Image \n",
    "from sklearn import decomposition\n",
    "\n",
    "%matplotlib inline\n",
    "import matplotlib.pyplot as plt\n",
    "\n",
    "#max iters = 10 in video?\n",
    "tol = 1.0e-8\n",
    "video = mpe.VideoFileClip(\"peoples.mkv\")\n",
    "video.subclip(0,11).ipython_display(witdh=300)\n",
    "\n",
    "#Aqui foi upado o vídeo a ser trabalhado.\n",
    "video.duration # duração do vídeo"
   ]
  },
  {
   "cell_type": "code",
   "execution_count": null,
   "metadata": {},
   "outputs": [],
   "source": [
    "#criando uma matrix de dados em cima do vídeo upado.\n",
    "\n",
    "def create_data_matrix_from_video(clip, k=5, scale=50):\n",
    "    return np.vstack([np.array(Image.fromarray(rgb2gray(clip.get_frame(i/float(k))).astype(np.uint8)).resize(scale)).flatten()\n",
    "                     for i in range(k*int(clip.duration))]).T\n",
    "\n",
    "def rgb2gray(rgb):\n",
    "    return np.dot(rgb[...,:3], [0.299, 0.587, 0.114])\n",
    "\n",
    "def plt_images(M, A, E, index_array, dims, filename=None):\n",
    "    f = plt.figure(figsize=(15, 10))\n",
    "    r = len(index_array)\n",
    "    pics = r * 3\n",
    "    for k, i in enumerate(index_array):\n",
    "        for j, mat in enumerate([M, A, E]):\n",
    "            sp = f.add_subplot(r, 3, 3*k + j + 1)\n",
    "            sp.axis('Off')\n",
    "            pixels = mat[:,i]\n",
    "            if isinstance(pixels, scipy.sparse.csr_matrix):\n",
    "                pixels = pixels.todense()\n",
    "            plt.imshow(np.reshape(pixels, dims), cmap='gray')\n",
    "    return f\n",
    "\n",
    "def plots(ims, dims, figsize=(15,20), rows=1, interp=False, titles=None):\n",
    "    if type(ims[0]) is np.ndarray:\n",
    "        ims = np.array(ims)\n",
    "    f = plt.figure(figsize=figsize)\n",
    "    for i in range(len(ims)):\n",
    "        sp = f.add_subplot(rows, len(ims)//rows, i+1)\n",
    "        sp.axis('Off')\n",
    "        plt.imshow(np.reshape(ims[i], dims), cmap=\"gray\")"
   ]
  },
  {
   "cell_type": "code",
   "execution_count": null,
   "metadata": {},
   "outputs": [],
   "source": [
    "scale = 25   # Ajustando a escala para alterar a resolução da imagem\n",
    "dims = (int(240 * (scale/100)), int(320 * (scale/100)))"
   ]
  },
  {
   "cell_type": "code",
   "execution_count": null,
   "metadata": {},
   "outputs": [],
   "source": [
    "M = create_data_matrix_from_video(video, 100, scale) # criando a matriz M"
   ]
  },
  {
   "cell_type": "code",
   "execution_count": null,
   "metadata": {},
   "outputs": [],
   "source": [
    "print(dims, M.shape) # Mostrando as dimensões da imagem."
   ]
  },
  {
   "cell_type": "code",
   "execution_count": null,
   "metadata": {},
   "outputs": [],
   "source": [
    "plt.imshow(np.reshap(M[:,140],dims), cmap='gray') #imagem em preto e branco"
   ]
  },
  {
   "cell_type": "code",
   "execution_count": null,
   "metadata": {},
   "outputs": [],
   "source": [
    "np.save(\"baixa resolução de video\",M)"
   ]
  },
  {
   "cell_type": "code",
   "execution_count": null,
   "metadata": {},
   "outputs": [],
   "source": [
    "plt.figure(figsize=(12,12))\n",
    "plt.imshow(M,cmap='gray')"
   ]
  },
  {
   "cell_type": "code",
   "execution_count": null,
   "metadata": {},
   "outputs": [],
   "source": [
    "u, s, v = decomposition.randomized_svd(M, 2)"
   ]
  },
  {
   "cell_type": "code",
   "execution_count": null,
   "metadata": {},
   "outputs": [],
   "source": [
    "u.shape, s.shape, v.shape"
   ]
  },
  {
   "cell_type": "code",
   "execution_count": null,
   "metadata": {},
   "outputs": [],
   "source": [
    "low_rank = u @ np.diag(s) @ v\n",
    "low_rank.shape"
   ]
  },
  {
   "cell_type": "code",
   "execution_count": null,
   "metadata": {},
   "outputs": [],
   "source": [
    "plt.figure(figsize=(12, 12))\n",
    "plt.imshow(low_rank, cmap='gray')"
   ]
  },
  {
   "cell_type": "code",
   "execution_count": null,
   "metadata": {},
   "outputs": [],
   "source": [
    "#Aqui nós podemos ver nossa imagem depois dos métodos utilizados. Em baixa resolução e com menor quantidade de dados.\n",
    "plt.imshow(np.reshape(low_rank[:,140], dims), cmap='gray');"
   ]
  },
  {
   "cell_type": "markdown",
   "metadata": {},
   "source": [
    "<div class=\"alert alert-block alert-info\">\n",
    "5. CASOS DE USO\n",
    "</div>"
   ]
  },
  {
   "cell_type": "markdown",
   "metadata": {},
   "source": [
    "No primeiro caso: Um vídeo foi upado e depois aplicado os métodos disponibilizados. Dessa forma, foi mostrado como pode ser feito a captura de frames e remoção de imagens de fundo.\n",
    "No segundo caso, onde peguei um vídeo aleátorio no youtube, utilizei o método SVD para fazer a extração das matrizes e geração de imagens binarizadas e com menor volume de dados."
   ]
  }
 ],
 "metadata": {
  "kernelspec": {
   "display_name": "Python 3 (ipykernel)",
   "language": "python",
   "name": "python3"
  },
  "language_info": {
   "codemirror_mode": {
    "name": "ipython",
    "version": 3
   },
   "file_extension": ".py",
   "mimetype": "text/x-python",
   "name": "python",
   "nbconvert_exporter": "python",
   "pygments_lexer": "ipython3",
   "version": "3.9.7"
  }
 },
 "nbformat": 4,
 "nbformat_minor": 4
}
